{
 "cells": [
  {
   "cell_type": "code",
   "execution_count": 1,
   "metadata": {},
   "outputs": [],
   "source": [
    "%matplotlib inline\n",
    "import seaborn as sns\n",
    "import matplotlib.pyplot as plt\n",
    "import pandas as pd\n",
    "from sklearn import preprocessing\n",
    "from sklearn.model_selection import train_test_split\n",
    "from scipy.stats import chisquare, ks_2samp\n",
    "import numpy as np"
   ]
  },
  {
   "cell_type": "code",
   "execution_count": 2,
   "metadata": {},
   "outputs": [
    {
     "data": {
      "text/html": [
       "<div>\n",
       "<style scoped>\n",
       "    .dataframe tbody tr th:only-of-type {\n",
       "        vertical-align: middle;\n",
       "    }\n",
       "\n",
       "    .dataframe tbody tr th {\n",
       "        vertical-align: top;\n",
       "    }\n",
       "\n",
       "    .dataframe thead th {\n",
       "        text-align: right;\n",
       "    }\n",
       "</style>\n",
       "<table border=\"1\" class=\"dataframe\">\n",
       "  <thead>\n",
       "    <tr style=\"text-align: right;\">\n",
       "      <th></th>\n",
       "      <th>encounter_id</th>\n",
       "      <th>patient_id</th>\n",
       "      <th>race</th>\n",
       "      <th>gender</th>\n",
       "      <th>age</th>\n",
       "      <th>weight</th>\n",
       "      <th>admission_type_id</th>\n",
       "      <th>discharge_disposition_id</th>\n",
       "      <th>admission_source_id</th>\n",
       "      <th>time_in_hospital</th>\n",
       "      <th>...</th>\n",
       "      <th>tel_41</th>\n",
       "      <th>tel_42</th>\n",
       "      <th>tel_43</th>\n",
       "      <th>tel_44</th>\n",
       "      <th>tel_45</th>\n",
       "      <th>tel_46</th>\n",
       "      <th>tel_47</th>\n",
       "      <th>tel_48</th>\n",
       "      <th>tel_49</th>\n",
       "      <th>diabetesMed</th>\n",
       "    </tr>\n",
       "  </thead>\n",
       "  <tbody>\n",
       "    <tr>\n",
       "      <th>0</th>\n",
       "      <td>178974720</td>\n",
       "      <td>61754247</td>\n",
       "      <td>Caucasian</td>\n",
       "      <td>Male</td>\n",
       "      <td>[80-90)</td>\n",
       "      <td>?</td>\n",
       "      <td>1</td>\n",
       "      <td>3</td>\n",
       "      <td>7</td>\n",
       "      <td>6</td>\n",
       "      <td>...</td>\n",
       "      <td>No</td>\n",
       "      <td>Steady</td>\n",
       "      <td>No</td>\n",
       "      <td>No</td>\n",
       "      <td>No</td>\n",
       "      <td>No</td>\n",
       "      <td>No</td>\n",
       "      <td>Ch</td>\n",
       "      <td>&gt;30</td>\n",
       "      <td>1</td>\n",
       "    </tr>\n",
       "    <tr>\n",
       "      <th>1</th>\n",
       "      <td>111231666</td>\n",
       "      <td>110498427</td>\n",
       "      <td>AfricanAmerican</td>\n",
       "      <td>Female</td>\n",
       "      <td>[50-60)</td>\n",
       "      <td>?</td>\n",
       "      <td>3</td>\n",
       "      <td>1</td>\n",
       "      <td>1</td>\n",
       "      <td>2</td>\n",
       "      <td>...</td>\n",
       "      <td>No</td>\n",
       "      <td>No</td>\n",
       "      <td>Steady</td>\n",
       "      <td>No</td>\n",
       "      <td>No</td>\n",
       "      <td>No</td>\n",
       "      <td>No</td>\n",
       "      <td>No</td>\n",
       "      <td>NO</td>\n",
       "      <td>1</td>\n",
       "    </tr>\n",
       "    <tr>\n",
       "      <th>2</th>\n",
       "      <td>134751624</td>\n",
       "      <td>91719990</td>\n",
       "      <td>Caucasian</td>\n",
       "      <td>Male</td>\n",
       "      <td>[80-90)</td>\n",
       "      <td>?</td>\n",
       "      <td>1</td>\n",
       "      <td>1</td>\n",
       "      <td>7</td>\n",
       "      <td>5</td>\n",
       "      <td>...</td>\n",
       "      <td>No</td>\n",
       "      <td>Down</td>\n",
       "      <td>No</td>\n",
       "      <td>No</td>\n",
       "      <td>No</td>\n",
       "      <td>No</td>\n",
       "      <td>No</td>\n",
       "      <td>Ch</td>\n",
       "      <td>&gt;30</td>\n",
       "      <td>1</td>\n",
       "    </tr>\n",
       "    <tr>\n",
       "      <th>3</th>\n",
       "      <td>254196636</td>\n",
       "      <td>1897758</td>\n",
       "      <td>Caucasian</td>\n",
       "      <td>Female</td>\n",
       "      <td>[70-80)</td>\n",
       "      <td>?</td>\n",
       "      <td>3</td>\n",
       "      <td>1</td>\n",
       "      <td>1</td>\n",
       "      <td>3</td>\n",
       "      <td>...</td>\n",
       "      <td>No</td>\n",
       "      <td>Steady</td>\n",
       "      <td>No</td>\n",
       "      <td>No</td>\n",
       "      <td>No</td>\n",
       "      <td>No</td>\n",
       "      <td>No</td>\n",
       "      <td>Ch</td>\n",
       "      <td>&gt;30</td>\n",
       "      <td>1</td>\n",
       "    </tr>\n",
       "    <tr>\n",
       "      <th>4</th>\n",
       "      <td>432617750</td>\n",
       "      <td>34636617</td>\n",
       "      <td>Asian</td>\n",
       "      <td>Female</td>\n",
       "      <td>[80-90)</td>\n",
       "      <td>?</td>\n",
       "      <td>2</td>\n",
       "      <td>3</td>\n",
       "      <td>5</td>\n",
       "      <td>2</td>\n",
       "      <td>...</td>\n",
       "      <td>No</td>\n",
       "      <td>No</td>\n",
       "      <td>No</td>\n",
       "      <td>No</td>\n",
       "      <td>No</td>\n",
       "      <td>No</td>\n",
       "      <td>No</td>\n",
       "      <td>No</td>\n",
       "      <td>NO</td>\n",
       "      <td>1</td>\n",
       "    </tr>\n",
       "  </tbody>\n",
       "</table>\n",
       "<p>5 rows × 50 columns</p>\n",
       "</div>"
      ],
      "text/plain": [
       "   encounter_id  patient_id             race  gender      age weight  \\\n",
       "0     178974720    61754247        Caucasian    Male  [80-90)      ?   \n",
       "1     111231666   110498427  AfricanAmerican  Female  [50-60)      ?   \n",
       "2     134751624    91719990        Caucasian    Male  [80-90)      ?   \n",
       "3     254196636     1897758        Caucasian  Female  [70-80)      ?   \n",
       "4     432617750    34636617            Asian  Female  [80-90)      ?   \n",
       "\n",
       "   admission_type_id  discharge_disposition_id  admission_source_id  \\\n",
       "0                  1                         3                    7   \n",
       "1                  3                         1                    1   \n",
       "2                  1                         1                    7   \n",
       "3                  3                         1                    1   \n",
       "4                  2                         3                    5   \n",
       "\n",
       "   time_in_hospital  ... tel_41  tel_42  tel_43  tel_44  tel_45  tel_46  \\\n",
       "0                 6  ...     No  Steady      No      No      No      No   \n",
       "1                 2  ...     No      No  Steady      No      No      No   \n",
       "2                 5  ...     No    Down      No      No      No      No   \n",
       "3                 3  ...     No  Steady      No      No      No      No   \n",
       "4                 2  ...     No      No      No      No      No      No   \n",
       "\n",
       "   tel_47  tel_48 tel_49 diabetesMed  \n",
       "0      No      Ch    >30           1  \n",
       "1      No      No     NO           1  \n",
       "2      No      Ch    >30           1  \n",
       "3      No      Ch    >30           1  \n",
       "4      No      No     NO           1  \n",
       "\n",
       "[5 rows x 50 columns]"
      ]
     },
     "execution_count": 2,
     "metadata": {},
     "output_type": "execute_result"
    }
   ],
   "source": [
    "df = pd.read_csv('train.csv')\n",
    "df.head()"
   ]
  },
  {
   "cell_type": "code",
   "execution_count": 3,
   "metadata": {},
   "outputs": [
    {
     "name": "stdout",
     "output_type": "stream",
     "text": [
      "race 337\n",
      "gender 0\n",
      "age 0\n",
      "weight 14315\n",
      "tel_1 2458\n",
      "tel_2 8122\n",
      "tel_9 1\n",
      "tel_10 33\n",
      "tel_11 139\n",
      "tel_13 0\n",
      "tel_14 0\n",
      "tel_15 0\n",
      "tel_16 0\n",
      "tel_17 0\n",
      "tel_18 0\n",
      "tel_19 0\n",
      "tel_20 0\n",
      "tel_21 0\n",
      "tel_22 0\n",
      "tel_23 0\n",
      "tel_24 0\n",
      "tel_25 0\n",
      "tel_26 0\n",
      "tel_27 0\n",
      "tel_28 0\n",
      "tel_29 0\n",
      "tel_30 0\n",
      "tel_41 0\n",
      "tel_42 0\n",
      "tel_43 0\n",
      "tel_44 0\n",
      "tel_45 0\n",
      "tel_46 0\n",
      "tel_47 0\n",
      "tel_48 0\n",
      "tel_49 0\n"
     ]
    }
   ],
   "source": [
    "\n",
    "for col in df.columns:\n",
    "    if df[col].dtype == object:\n",
    "         print(col,df[col][df[col] == '?'].count())"
   ]
  },
  {
   "cell_type": "code",
   "execution_count": 4,
   "metadata": {},
   "outputs": [],
   "source": [
    "#removing data with more no. of unknown values\n",
    "df = df.drop(['weight','tel_1', 'tel_2'],axis=1)"
   ]
  },
  {
   "cell_type": "code",
   "execution_count": 5,
   "metadata": {},
   "outputs": [],
   "source": [
    "drop_Idx = set(df[(df['tel_9'] == '?') & (df['tel_10'] == '?') & (df['tel_11'] == '?')].index)\n",
    "\n",
    "drop_Idx = drop_Idx.union(set(df['tel_9'][df['tel_9'] == '?'].index))\n",
    "drop_Idx = drop_Idx.union(set(df['tel_10'][df['tel_10'] == '?'].index))\n",
    "drop_Idx = drop_Idx.union(set(df['tel_11'][df['tel_11'] == '?'].index))\n",
    "drop_Idx = drop_Idx.union(set(df['race'][df['race'] == '?'].index))\n",
    "drop_Idx = drop_Idx.union(set(df[df['discharge_disposition_id'] == 11].index))\n",
    "drop_Idx = drop_Idx.union(set(df['gender'][df['gender'] == 'Unknown/Invalid'].index))\n",
    "new_Idx = list(set(df.index) - set(drop_Idx))\n",
    "df = df.iloc[new_Idx]"
   ]
  },
  {
   "cell_type": "code",
   "execution_count": 6,
   "metadata": {},
   "outputs": [],
   "source": [
    "#removing  columns since they contain only one category\n",
    "df = df.drop(['tel_30', 'tel_41','tel_47','tel_20','tel_28','tel_29','tel_45','tel_46','tel_47'], axis = 1)"
   ]
  },
  {
   "cell_type": "code",
   "execution_count": 7,
   "metadata": {},
   "outputs": [
    {
     "name": "stdout",
     "output_type": "stream",
     "text": [
      "race 0\n",
      "gender 0\n",
      "age 0\n",
      "tel_9 0\n",
      "tel_10 0\n",
      "tel_11 0\n",
      "tel_13 0\n",
      "tel_14 0\n",
      "tel_15 0\n",
      "tel_16 0\n",
      "tel_17 0\n",
      "tel_18 0\n",
      "tel_19 0\n",
      "tel_21 0\n",
      "tel_22 0\n",
      "tel_23 0\n",
      "tel_24 0\n",
      "tel_25 0\n",
      "tel_26 0\n",
      "tel_27 0\n",
      "tel_42 0\n",
      "tel_43 0\n",
      "tel_44 0\n",
      "tel_48 0\n",
      "tel_49 0\n"
     ]
    }
   ],
   "source": [
    "for col in df.columns:\n",
    "    if df[col].dtype == object:\n",
    "         print(col,df[col][df[col] == '?'].count())"
   ]
  },
  {
   "cell_type": "code",
   "execution_count": 8,
   "metadata": {},
   "outputs": [
    {
     "name": "stdout",
     "output_type": "stream",
     "text": [
      "gender 0\n"
     ]
    }
   ],
   "source": [
    "print('gender', df['gender'][df['gender'] == 'Unknown/Invalid'].count())"
   ]
  },
  {
   "cell_type": "code",
   "execution_count": 9,
   "metadata": {},
   "outputs": [
    {
     "name": "stdout",
     "output_type": "stream",
     "text": [
      "['race' 'gender' 'age' 'tel_9' 'tel_10' 'tel_11' 'tel_13' 'tel_14'\n",
      " 'tel_15' 'tel_16' 'tel_17' 'tel_18' 'tel_19' 'tel_21' 'tel_22' 'tel_23'\n",
      " 'tel_24' 'tel_25' 'tel_26' 'tel_27' 'tel_42' 'tel_43' 'tel_44' 'tel_48'\n",
      " 'tel_49']\n",
      "['encounter_id' 'patient_id' 'admission_type_id'\n",
      " 'discharge_disposition_id' 'admission_source_id' 'time_in_hospital'\n",
      " 'tel_3' 'tel_4' 'tel_5' 'tel_6' 'tel_7' 'tel_8' 'tel_12' 'diabetesMed']\n"
     ]
    }
   ],
   "source": [
    "#creating a list of categorical and numeric columns names\n",
    "categorical=df.select_dtypes(include=['object'])\n",
    "numeric=df.select_dtypes(exclude=['object'])\n",
    "print(categorical.columns.values)\n",
    "print(numeric.columns.values)"
   ]
  },
  {
   "cell_type": "code",
   "execution_count": 10,
   "metadata": {},
   "outputs": [
    {
     "name": "stdout",
     "output_type": "stream",
     "text": [
      "Caucasian          10958\n",
      "AfricanAmerican     2469\n",
      "Hispanic             273\n",
      "Other                212\n",
      "Asian                 99\n",
      "Name: race, dtype: int64\n",
      "Female    7545\n",
      "Male      6466\n",
      "Name: gender, dtype: int64\n",
      "[70-80)     3661\n",
      "[60-70)     3184\n",
      "[80-90)     2471\n",
      "[50-60)     2290\n",
      "[40-50)     1266\n",
      "[30-40)      460\n",
      "[90-100)     425\n",
      "[20-30)      202\n",
      "[10-20)       46\n",
      "[0-10)         6\n",
      "Name: age, dtype: int64\n",
      "428       988\n",
      "414       765\n",
      "486       557\n",
      "786       527\n",
      "410       432\n",
      "         ... \n",
      "136         1\n",
      "250.43      1\n",
      "706         1\n",
      "223         1\n",
      "362         1\n",
      "Name: tel_9, Length: 502, dtype: int64\n",
      "276      991\n",
      "428      911\n",
      "250      754\n",
      "427      673\n",
      "401      487\n",
      "        ... \n",
      "323        1\n",
      "E924       1\n",
      "270        1\n",
      "725        1\n",
      "250.3      1\n",
      "Name: tel_10, Length: 496, dtype: int64\n",
      "250     1555\n",
      "401     1090\n",
      "276      761\n",
      "428      678\n",
      "427      531\n",
      "        ... \n",
      "E943       1\n",
      "555        1\n",
      "E870       1\n",
      "570        1\n",
      "180        1\n",
      "Name: tel_11, Length: 529, dtype: int64\n",
      "None    13733\n",
      "Norm      125\n",
      ">300      102\n",
      ">200       51\n",
      "Name: tel_13, dtype: int64\n",
      "None    11500\n",
      ">8       1111\n",
      "Norm      811\n",
      ">7        589\n",
      "Name: tel_14, dtype: int64\n",
      "No        10692\n",
      "Steady     3077\n",
      "Up          150\n",
      "Down         92\n",
      "Name: tel_15, dtype: int64\n",
      "No        13704\n",
      "Steady      280\n",
      "Up           21\n",
      "Down          6\n",
      "Name: tel_16, dtype: int64\n",
      "No        13857\n",
      "Steady      144\n",
      "Up            8\n",
      "Down          2\n",
      "Name: tel_17, dtype: int64\n",
      "No        14002\n",
      "Steady        9\n",
      "Name: tel_18, dtype: int64\n",
      "No        13094\n",
      "Steady      838\n",
      "Up           50\n",
      "Down         29\n",
      "Name: tel_19, dtype: int64\n",
      "No        11976\n",
      "Steady     1841\n",
      "Up          109\n",
      "Down         85\n",
      "Name: tel_21, dtype: int64\n",
      "No        12615\n",
      "Steady     1244\n",
      "Up           87\n",
      "Down         65\n",
      "Name: tel_22, dtype: int64\n",
      "No        14009\n",
      "Steady        2\n",
      "Name: tel_23, dtype: int64\n",
      "No        12679\n",
      "Steady     1272\n",
      "Up           42\n",
      "Down         18\n",
      "Name: tel_24, dtype: int64\n",
      "No        13007\n",
      "Steady      978\n",
      "Up           22\n",
      "Down          4\n",
      "Name: tel_25, dtype: int64\n",
      "No        13962\n",
      "Steady       46\n",
      "Down          2\n",
      "Up            1\n",
      "Name: tel_26, dtype: int64\n",
      "No        14003\n",
      "Steady        5\n",
      "Down          2\n",
      "Up            1\n",
      "Name: tel_27, dtype: int64\n",
      "No        4959\n",
      "Steady    4806\n",
      "Up        2140\n",
      "Down      2106\n",
      "Name: tel_42, dtype: int64\n",
      "No        13863\n",
      "Steady      147\n",
      "Up            1\n",
      "Name: tel_43, dtype: int64\n",
      "No        14006\n",
      "Steady        5\n",
      "Name: tel_44, dtype: int64\n",
      "Ch    7939\n",
      "No    6072\n",
      "Name: tel_48, dtype: int64\n",
      "NO     7247\n",
      ">30    5184\n",
      "<30    1580\n",
      "Name: tel_49, dtype: int64\n"
     ]
    }
   ],
   "source": [
    "#printing the frequency count of all the categorical features\n",
    "for col in categorical:\n",
    "    print(categorical[col].value_counts())\n",
    "    "
   ]
  },
  {
   "cell_type": "code",
   "execution_count": 11,
   "metadata": {},
   "outputs": [
    {
     "name": "stdout",
     "output_type": "stream",
     "text": [
      "113905662    1\n",
      "400866194    1\n",
      "219901818    1\n",
      "138242124    1\n",
      "241490862    1\n",
      "            ..\n",
      "143078892    1\n",
      "222397704    1\n",
      "135880056    1\n",
      "110650854    1\n",
      "281346048    1\n",
      "Name: encounter_id, Length: 14011, dtype: int64\n",
      "88785891     10\n",
      "89308323      7\n",
      "89472402      7\n",
      "37096866      7\n",
      "97019901      7\n",
      "             ..\n",
      "61041096      1\n",
      "141390968     1\n",
      "32397786      1\n",
      "85019076      1\n",
      "86261760      1\n",
      "Name: patient_id, Length: 12396, dtype: int64\n",
      "1    7655\n",
      "3    2910\n",
      "2    2541\n",
      "5     444\n",
      "6     403\n",
      "8      53\n",
      "4       3\n",
      "7       2\n",
      "Name: admission_type_id, dtype: int64\n",
      "1     8521\n",
      "3     2188\n",
      "6     2051\n",
      "22     378\n",
      "2      315\n",
      "4       87\n",
      "23      84\n",
      "13      84\n",
      "7       82\n",
      "5       77\n",
      "14      65\n",
      "28      26\n",
      "15      18\n",
      "24      13\n",
      "25       7\n",
      "9        6\n",
      "18       5\n",
      "8        3\n",
      "19       1\n",
      "Name: discharge_disposition_id, dtype: int64\n",
      "7     8661\n",
      "1     4415\n",
      "17     363\n",
      "4      242\n",
      "6      163\n",
      "5       88\n",
      "2       56\n",
      "3        6\n",
      "9        6\n",
      "10       3\n",
      "22       2\n",
      "8        2\n",
      "14       1\n",
      "20       1\n",
      "11       1\n",
      "25       1\n",
      "Name: admission_source_id, dtype: int64\n",
      "3     2573\n",
      "2     2400\n",
      "4     1929\n",
      "1     1916\n",
      "5     1391\n",
      "6      997\n",
      "7      801\n",
      "8      593\n",
      "9      397\n",
      "10     319\n",
      "11     264\n",
      "12     178\n",
      "13     149\n",
      "14     104\n",
      "Name: time_in_hospital, dtype: int64\n",
      "1      605\n",
      "43     401\n",
      "44     357\n",
      "45     340\n",
      "41     316\n",
      "      ... \n",
      "109      1\n",
      "106      1\n",
      "102      1\n",
      "100      1\n",
      "113      1\n",
      "Name: tel_3, Length: 103, dtype: int64\n",
      "0    6548\n",
      "1    2798\n",
      "2    1755\n",
      "3    1230\n",
      "6     737\n",
      "4     591\n",
      "5     352\n",
      "Name: tel_4, dtype: int64\n",
      "15    860\n",
      "14    811\n",
      "12    811\n",
      "13    776\n",
      "11    774\n",
      "     ... \n",
      "66      1\n",
      "59      1\n",
      "75      1\n",
      "64      1\n",
      "61      1\n",
      "Name: tel_5, Length: 70, dtype: int64\n",
      "0     11153\n",
      "1      1448\n",
      "2       596\n",
      "3       357\n",
      "4       193\n",
      "5        86\n",
      "6        60\n",
      "7        32\n",
      "9        25\n",
      "8        17\n",
      "10        7\n",
      "13        6\n",
      "14        5\n",
      "11        5\n",
      "12        4\n",
      "15        3\n",
      "27        3\n",
      "21        3\n",
      "29        2\n",
      "42        1\n",
      "33        1\n",
      "20        1\n",
      "22        1\n",
      "16        1\n",
      "37        1\n",
      "Name: tel_6, dtype: int64\n",
      "0     11973\n",
      "1      1379\n",
      "2       332\n",
      "3       152\n",
      "4        75\n",
      "5        40\n",
      "8        12\n",
      "7        10\n",
      "6         9\n",
      "9         6\n",
      "10        6\n",
      "11        5\n",
      "19        2\n",
      "12        2\n",
      "13        2\n",
      "42        1\n",
      "18        1\n",
      "25        1\n",
      "21        1\n",
      "22        1\n",
      "15        1\n",
      "Name: tel_7, dtype: int64\n",
      "0     9141\n",
      "1     2778\n",
      "2     1071\n",
      "3      502\n",
      "4      238\n",
      "5      115\n",
      "6       62\n",
      "7       40\n",
      "8       18\n",
      "9       16\n",
      "12       8\n",
      "10       8\n",
      "11       6\n",
      "13       4\n",
      "14       3\n",
      "15       1\n",
      "Name: tel_8, dtype: int64\n",
      "9     8129\n",
      "7     1302\n",
      "8     1253\n",
      "6     1227\n",
      "5     1150\n",
      "4      637\n",
      "3      293\n",
      "16      10\n",
      "10       3\n",
      "14       2\n",
      "13       2\n",
      "11       2\n",
      "12       1\n",
      "Name: tel_12, dtype: int64\n",
      "1    12602\n",
      "0     1409\n",
      "Name: diabetesMed, dtype: int64\n"
     ]
    }
   ],
   "source": [
    "\n",
    "#printing the frequency of all the numeric features\n",
    "for col in numeric:\n",
    "    print(numeric[col].value_counts())"
   ]
  },
  {
   "cell_type": "code",
   "execution_count": 12,
   "metadata": {},
   "outputs": [
    {
     "data": {
      "image/png": "[encoded data removed]",
      "text/plain": [
       "<Figure size 432x288 with 1 Axes>"
      ]
     },
     "metadata": {
      "needs_background": "light"
     },
     "output_type": "display_data"
    },
    {
     "data": {
      "image/png": "[encoded data removed]",
      "text/plain": [
       "<Figure size 432x288 with 1 Axes>"
      ]
     },
     "metadata": {
      "needs_background": "light"
     },
     "output_type": "display_data"
    },
    {
     "data": {
      "image/png": "[encoded data removed]",
      "text/plain": [
       "<Figure size 432x288 with 1 Axes>"
      ]
     },
     "metadata": {
      "needs_background": "light"
     },
     "output_type": "display_data"
    },
    {
     "data": {
      "image/png": "[encoded data removed]",
      "text/plain": [
       "<Figure size 432x288 with 1 Axes>"
      ]
     },
     "metadata": {
      "needs_background": "light"
     },
     "output_type": "display_data"
    },
    {
     "data": {
      "image/png": "[encoded data removed]",
      "text/plain": [
       "<Figure size 432x288 with 1 Axes>"
      ]
     },
     "metadata": {
      "needs_background": "light"
     },
     "output_type": "display_data"
    },
    {
     "data": {
      "image/png": "[encoded data removed]",
      "text/plain": [
       "<Figure size 432x288 with 1 Axes>"
      ]
     },
     "metadata": {
      "needs_background": "light"
     },
     "output_type": "display_data"
    },
    {
     "data": {
      "image/png": "[encoded data removed]",
      "text/plain": [
       "<Figure size 432x288 with 1 Axes>"
      ]
     },
     "metadata": {
      "needs_background": "light"
     },
     "output_type": "display_data"
    },
    {
     "data": {
      "image/png": "[encoded data removed]",
      "text/plain": [
       "<Figure size 432x288 with 1 Axes>"
      ]
     },
     "metadata": {
      "needs_background": "light"
     },
     "output_type": "display_data"
    },
    {
     "data": {
      "image/png": "[encoded data removed]",
      "text/plain": [
       "<Figure size 432x288 with 1 Axes>"
      ]
     },
     "metadata": {
      "needs_background": "light"
     },
     "output_type": "display_data"
    },
    {
     "data": {
      "image/png": "[encoded data removed]",
      "text/plain": [
       "<Figure size 432x288 with 1 Axes>"
      ]
     },
     "metadata": {
      "needs_background": "light"
     },
     "output_type": "display_data"
    },
    {
     "data": {
      "image/png": "[encoded data removed]",
      "text/plain": [
       "<Figure size 432x288 with 1 Axes>"
      ]
     },
     "metadata": {
      "needs_background": "light"
     },
     "output_type": "display_data"
    },
    {
     "data": {
      "image/png": "[encoded data removed]",
      "text/plain": [
       "<Figure size 432x288 with 1 Axes>"
      ]
     },
     "metadata": {
      "needs_background": "light"
     },
     "output_type": "display_data"
    },
    {
     "data": {
      "image/png": "[encoded data removed]",
      "text/plain": [
       "<Figure size 432x288 with 1 Axes>"
      ]
     },
     "metadata": {
      "needs_background": "light"
     },
     "output_type": "display_data"
    },
    {
     "data": {
      "image/png": "[encoded data removed]",
      "text/plain": [
       "<Figure size 432x288 with 1 Axes>"
      ]
     },
     "metadata": {
      "needs_background": "light"
     },
     "output_type": "display_data"
    },
    {
     "data": {
      "image/png": "[encoded data removed]",
      "text/plain": [
       "<Figure size 432x288 with 1 Axes>"
      ]
     },
     "metadata": {
      "needs_background": "light"
     },
     "output_type": "display_data"
    },
    {
     "data": {
      "image/png": "[encoded data removed]",
      "text/plain": [
       "<Figure size 432x288 with 1 Axes>"
      ]
     },
     "metadata": {
      "needs_background": "light"
     },
     "output_type": "display_data"
    },
    {
     "data": {
      "image/png": "[encoded data removed]",
      "text/plain": [
       "<Figure size 432x288 with 1 Axes>"
      ]
     },
     "metadata": {
      "needs_background": "light"
     },
     "output_type": "display_data"
    },
    {
     "data": {
      "image/png": "[encoded data removed]",
      "text/plain": [
       "<Figure size 432x288 with 1 Axes>"
      ]
     },
     "metadata": {
      "needs_background": "light"
     },
     "output_type": "display_data"
    },
    {
     "data": {
      "image/png": "[encoded data removed]",
      "text/plain": [
       "<Figure size 432x288 with 1 Axes>"
      ]
     },
     "metadata": {
      "needs_background": "light"
     },
     "output_type": "display_data"
    },
    {
     "data": {
      "image/png": "[encoded data removed]",
      "text/plain": [
       "<Figure size 432x288 with 1 Axes>"
      ]
     },
     "metadata": {
      "needs_background": "light"
     },
     "output_type": "display_data"
    },
    {
     "data": {
      "image/png": "[encoded data removed]",
      "text/plain": [
       "<Figure size 432x288 with 1 Axes>"
      ]
     },
     "metadata": {
      "needs_background": "light"
     },
     "output_type": "display_data"
    },
    {
     "data": {
      "image/png": "[encoded data removed]",
      "text/plain": [
       "<Figure size 432x288 with 1 Axes>"
      ]
     },
     "metadata": {
      "needs_background": "light"
     },
     "output_type": "display_data"
    },
    {
     "data": {
      "image/png": "[encoded data removed]",
      "text/plain": [
       "<Figure size 432x288 with 1 Axes>"
      ]
     },
     "metadata": {
      "needs_background": "light"
     },
     "output_type": "display_data"
    },
    {
     "data": {
      "image/png": "[encoded data removed]",
      "text/plain": [
       "<Figure size 432x288 with 1 Axes>"
      ]
     },
     "metadata": {
      "needs_background": "light"
     },
     "output_type": "display_data"
    },
    {
     "data": {
      "image/png": "[encoded data removed]",
      "text/plain": [
       "<Figure size 432x288 with 1 Axes>"
      ]
     },
     "metadata": {
      "needs_background": "light"
     },
     "output_type": "display_data"
    }
   ],
   "source": [
    "for col in categorical:\n",
    "    categorical[col].value_counts().plot(kind='bar')\n",
    "    plt.show()"
   ]
  },
  {
   "cell_type": "code",
   "execution_count": 13,
   "metadata": {},
   "outputs": [
    {
     "data": {
      "text/plain": [
       "(14011, 39)"
      ]
     },
     "execution_count": 13,
     "metadata": {},
     "output_type": "execute_result"
    }
   ],
   "source": [
    "#Making thevariables binary  \n",
    "df['gender'] = df['gender'].apply(lambda x: 0 if x == \"Female\" else 1) \n",
    "df.shape"
   ]
  },
  {
   "cell_type": "code",
   "execution_count": 14,
   "metadata": {},
   "outputs": [],
   "source": [
    "\n",
    "\n",
    "#defining a function to give average value for the age\n",
    "def agecategory(x):\n",
    "    \n",
    "    if x == \"[0-10)\" :\n",
    "        return 5\n",
    "    elif x == \"[10-20)\":\n",
    "        return 15\n",
    "    elif x == \"[20-30)\":\n",
    "        return 25\n",
    "    elif x == \"[30-40)\":\n",
    "        return 35\n",
    "    elif x == \"[40-50)\":\n",
    "        return 45\n",
    "    elif x == \"[50-60)\":\n",
    "        return 55\n",
    "    elif x == \"[60-70)\":\n",
    "        return 65\n",
    "    elif x == \"[70-80)\":\n",
    "        return 75\n",
    "    else:\n",
    "        return 0\n",
    "\n"
   ]
  },
  {
   "cell_type": "code",
   "execution_count": 15,
   "metadata": {},
   "outputs": [],
   "source": [
    "#replacing the age bins with their average value\n",
    "df['age'] = df['age'].apply(lambda x: agecategory(x))"
   ]
  },
  {
   "cell_type": "code",
   "execution_count": 16,
   "metadata": {},
   "outputs": [
    {
     "data": {
      "text/plain": [
       "array([ 0, 55, 75, 35, 65, 45, 15, 25,  5], dtype=int64)"
      ]
     },
     "execution_count": 16,
     "metadata": {},
     "output_type": "execute_result"
    }
   ],
   "source": [
    "df['age'].unique()"
   ]
  },
  {
   "cell_type": "code",
   "execution_count": 17,
   "metadata": {},
   "outputs": [],
   "source": [
    "#combing all variables tel_15 to tel_44 to one variable since they are all of similiar values describing similiar things (yes,no,steady)\n",
    "indicators = ['tel_15', 'tel_16', 'tel_17', 'tel_18', 'tel_19', 'tel_21', 'tel_22',\n",
    "       'tel_23', 'tel_24', 'tel_25', 'tel_26', 'tel_27', 'tel_42', 'tel_43',\n",
    "       'tel_44']"
   ]
  },
  {
   "cell_type": "code",
   "execution_count": 18,
   "metadata": {},
   "outputs": [
    {
     "name": "stdout",
     "output_type": "stream",
     "text": [
      "['tel_15', 'tel_16', 'tel_17', 'tel_18', 'tel_19', 'tel_21', 'tel_22', 'tel_23', 'tel_24', 'tel_25', 'tel_26', 'tel_27', 'tel_42', 'tel_43', 'tel_44']\n"
     ]
    }
   ],
   "source": [
    "print(indicators)"
   ]
  },
  {
   "cell_type": "code",
   "execution_count": 19,
   "metadata": {},
   "outputs": [],
   "source": [
    "#assigning a value of 0 if indicators are 'no' and assigning 1 even if indicators are\n",
    "#increasing/decreasing/steady \n",
    "for i in indicators:\n",
    "    df[i] = df[i].apply(lambda x: 0 if x == \"No\" else 1)"
   ]
  },
  {
   "cell_type": "code",
   "execution_count": 20,
   "metadata": {},
   "outputs": [],
   "source": [
    "#finding out total number of treatments taken by patient\n",
    "df['total_indicators'] = np.zeros((len(df['tel_15'])))\n",
    "for col in indicators:\n",
    "    df['total_indicators'] += df[col]"
   ]
  },
  {
   "cell_type": "code",
   "execution_count": 21,
   "metadata": {},
   "outputs": [
    {
     "data": {
      "text/plain": [
       "array([2., 1., 0., 3., 4., 5., 6.])"
      ]
     },
     "execution_count": 21,
     "metadata": {},
     "output_type": "execute_result"
    }
   ],
   "source": [
    "df['total_indicators'].unique()"
   ]
  },
  {
   "cell_type": "code",
   "execution_count": 22,
   "metadata": {},
   "outputs": [],
   "source": [
    "#df1=df.groupby('diabetesMed').sum()\n",
    "#df1"
   ]
  },
  {
   "cell_type": "code",
   "execution_count": 23,
   "metadata": {},
   "outputs": [],
   "source": [
    "# converting remaining two anonymouns variables tel13 and 14 as categorical variables based on values\n",
    "df['tel_13'] = df['tel_13'].apply(lambda x: 0 if x == \"None\" else (1 if x==\"Norm\" else 2) )\n",
    "df['tel_14'] = df['tel_14'].apply(lambda x: 0 if x == \"None\" else (1 if x==\"Norm\" else 2) )"
   ]
  },
  {
   "cell_type": "code",
   "execution_count": 24,
   "metadata": {},
   "outputs": [],
   "source": [
    "#defining a function to convert column tel 9,10,11 as categorical variables\n",
    "\n",
    "def getCategory(x):\n",
    "    if 'V' in str(x) or 'E' in str(x):\n",
    "        return 0\n",
    "    \n",
    "    x = float(x)\n",
    "    \n",
    "    if (x >= 200 and x <= 300) or np.floor(x) == 785:\n",
    "        return 1\n",
    "    elif (x >= 300 and x <= 400) or np.floor(x) == 786:\n",
    "        return 2\n",
    "    elif (x >= 400 and x <= 500) or np.floor(x) == 787:\n",
    "        return 3 \n",
    "    elif x >= 500 and x <= 700:\n",
    "        return 5\n",
    "    elif x >= 700 and x <= 800:\n",
    "        return 6\n",
    "    elif (x >= 800 and x <= 900):\n",
    "        return 7\n",
    "    elif x >= 900 :\n",
    "        return 8\n",
    "    else:\n",
    "        return 0"
   ]
  },
  {
   "cell_type": "code",
   "execution_count": 25,
   "metadata": {},
   "outputs": [],
   "source": [
    "#changing the values into categories\n",
    "df['tel_9_category'] = df['tel_9'].apply(lambda x: getCategory(x))\n",
    "df['tel_10_category'] = df['tel_10'].apply(lambda x: getCategory(x))\n",
    "df['tel_11_category'] = df['tel_11'].apply(lambda x: getCategory(x))"
   ]
  },
  {
   "cell_type": "code",
   "execution_count": 26,
   "metadata": {},
   "outputs": [
    {
     "data": {
      "text/plain": [
       "array([6, 3, 5, 1, 0, 8, 2, 7], dtype=int64)"
      ]
     },
     "execution_count": 26,
     "metadata": {},
     "output_type": "execute_result"
    }
   ],
   "source": [
    "df['tel_11_category'].unique()"
   ]
  },
  {
   "cell_type": "code",
   "execution_count": 27,
   "metadata": {},
   "outputs": [
    {
     "data": {
      "text/plain": [
       "['encounter_id',\n",
       " 'patient_id',\n",
       " 'race',\n",
       " 'gender',\n",
       " 'age',\n",
       " 'admission_type_id',\n",
       " 'discharge_disposition_id',\n",
       " 'admission_source_id',\n",
       " 'time_in_hospital',\n",
       " 'tel_3',\n",
       " 'tel_4',\n",
       " 'tel_5',\n",
       " 'tel_6',\n",
       " 'tel_7',\n",
       " 'tel_8',\n",
       " 'tel_9',\n",
       " 'tel_10',\n",
       " 'tel_11',\n",
       " 'tel_12',\n",
       " 'tel_13',\n",
       " 'tel_14',\n",
       " 'tel_15',\n",
       " 'tel_16',\n",
       " 'tel_17',\n",
       " 'tel_18',\n",
       " 'tel_19',\n",
       " 'tel_21',\n",
       " 'tel_22',\n",
       " 'tel_23',\n",
       " 'tel_24',\n",
       " 'tel_25',\n",
       " 'tel_26',\n",
       " 'tel_27',\n",
       " 'tel_42',\n",
       " 'tel_43',\n",
       " 'tel_44',\n",
       " 'tel_48',\n",
       " 'tel_49',\n",
       " 'diabetesMed',\n",
       " 'total_indicators',\n",
       " 'tel_9_category',\n",
       " 'tel_10_category',\n",
       " 'tel_11_category']"
      ]
     },
     "execution_count": 27,
     "metadata": {},
     "output_type": "execute_result"
    }
   ],
   "source": [
    "list(df)"
   ]
  },
  {
   "cell_type": "code",
   "execution_count": 28,
   "metadata": {},
   "outputs": [
    {
     "data": {
      "text/html": [
       "<div>\n",
       "<style scoped>\n",
       "    .dataframe tbody tr th:only-of-type {\n",
       "        vertical-align: middle;\n",
       "    }\n",
       "\n",
       "    .dataframe tbody tr th {\n",
       "        vertical-align: top;\n",
       "    }\n",
       "\n",
       "    .dataframe thead th {\n",
       "        text-align: right;\n",
       "    }\n",
       "</style>\n",
       "<table border=\"1\" class=\"dataframe\">\n",
       "  <thead>\n",
       "    <tr style=\"text-align: right;\">\n",
       "      <th></th>\n",
       "      <th>encounter_id</th>\n",
       "      <th>patient_id</th>\n",
       "      <th>race</th>\n",
       "      <th>gender</th>\n",
       "      <th>age</th>\n",
       "      <th>admission_type_id</th>\n",
       "      <th>discharge_disposition_id</th>\n",
       "      <th>admission_source_id</th>\n",
       "      <th>time_in_hospital</th>\n",
       "      <th>tel_3</th>\n",
       "      <th>...</th>\n",
       "      <th>tel_42</th>\n",
       "      <th>tel_43</th>\n",
       "      <th>tel_44</th>\n",
       "      <th>tel_48</th>\n",
       "      <th>tel_49</th>\n",
       "      <th>diabetesMed</th>\n",
       "      <th>total_indicators</th>\n",
       "      <th>tel_9_category</th>\n",
       "      <th>tel_10_category</th>\n",
       "      <th>tel_11_category</th>\n",
       "    </tr>\n",
       "  </thead>\n",
       "  <tbody>\n",
       "    <tr>\n",
       "      <th>5</th>\n",
       "      <td>139109832</td>\n",
       "      <td>24224814</td>\n",
       "      <td>AfricanAmerican</td>\n",
       "      <td>0</td>\n",
       "      <td>0</td>\n",
       "      <td>1</td>\n",
       "      <td>23</td>\n",
       "      <td>7</td>\n",
       "      <td>3</td>\n",
       "      <td>39</td>\n",
       "      <td>...</td>\n",
       "      <td>1</td>\n",
       "      <td>0</td>\n",
       "      <td>0</td>\n",
       "      <td>Ch</td>\n",
       "      <td>NO</td>\n",
       "      <td>1</td>\n",
       "      <td>2.0</td>\n",
       "      <td>3</td>\n",
       "      <td>3</td>\n",
       "      <td>1</td>\n",
       "    </tr>\n",
       "    <tr>\n",
       "      <th>13</th>\n",
       "      <td>158271282</td>\n",
       "      <td>38671362</td>\n",
       "      <td>Caucasian</td>\n",
       "      <td>0</td>\n",
       "      <td>55</td>\n",
       "      <td>5</td>\n",
       "      <td>6</td>\n",
       "      <td>1</td>\n",
       "      <td>8</td>\n",
       "      <td>61</td>\n",
       "      <td>...</td>\n",
       "      <td>1</td>\n",
       "      <td>0</td>\n",
       "      <td>0</td>\n",
       "      <td>Ch</td>\n",
       "      <td>&gt;30</td>\n",
       "      <td>1</td>\n",
       "      <td>2.0</td>\n",
       "      <td>1</td>\n",
       "      <td>6</td>\n",
       "      <td>5</td>\n",
       "    </tr>\n",
       "    <tr>\n",
       "      <th>14</th>\n",
       "      <td>125289972</td>\n",
       "      <td>90043443</td>\n",
       "      <td>Caucasian</td>\n",
       "      <td>0</td>\n",
       "      <td>75</td>\n",
       "      <td>2</td>\n",
       "      <td>1</td>\n",
       "      <td>7</td>\n",
       "      <td>3</td>\n",
       "      <td>1</td>\n",
       "      <td>...</td>\n",
       "      <td>1</td>\n",
       "      <td>0</td>\n",
       "      <td>0</td>\n",
       "      <td>Ch</td>\n",
       "      <td>&gt;30</td>\n",
       "      <td>1</td>\n",
       "      <td>3.0</td>\n",
       "      <td>5</td>\n",
       "      <td>5</td>\n",
       "      <td>1</td>\n",
       "    </tr>\n",
       "    <tr>\n",
       "      <th>16</th>\n",
       "      <td>125981694</td>\n",
       "      <td>24452838</td>\n",
       "      <td>AfricanAmerican</td>\n",
       "      <td>0</td>\n",
       "      <td>75</td>\n",
       "      <td>3</td>\n",
       "      <td>6</td>\n",
       "      <td>4</td>\n",
       "      <td>8</td>\n",
       "      <td>36</td>\n",
       "      <td>...</td>\n",
       "      <td>1</td>\n",
       "      <td>0</td>\n",
       "      <td>0</td>\n",
       "      <td>No</td>\n",
       "      <td>&lt;30</td>\n",
       "      <td>1</td>\n",
       "      <td>1.0</td>\n",
       "      <td>3</td>\n",
       "      <td>6</td>\n",
       "      <td>3</td>\n",
       "    </tr>\n",
       "    <tr>\n",
       "      <th>18</th>\n",
       "      <td>193488420</td>\n",
       "      <td>30942189</td>\n",
       "      <td>Caucasian</td>\n",
       "      <td>0</td>\n",
       "      <td>55</td>\n",
       "      <td>3</td>\n",
       "      <td>1</td>\n",
       "      <td>1</td>\n",
       "      <td>1</td>\n",
       "      <td>3</td>\n",
       "      <td>...</td>\n",
       "      <td>1</td>\n",
       "      <td>0</td>\n",
       "      <td>0</td>\n",
       "      <td>Ch</td>\n",
       "      <td>&gt;30</td>\n",
       "      <td>1</td>\n",
       "      <td>2.0</td>\n",
       "      <td>3</td>\n",
       "      <td>3</td>\n",
       "      <td>1</td>\n",
       "    </tr>\n",
       "    <tr>\n",
       "      <th>...</th>\n",
       "      <td>...</td>\n",
       "      <td>...</td>\n",
       "      <td>...</td>\n",
       "      <td>...</td>\n",
       "      <td>...</td>\n",
       "      <td>...</td>\n",
       "      <td>...</td>\n",
       "      <td>...</td>\n",
       "      <td>...</td>\n",
       "      <td>...</td>\n",
       "      <td>...</td>\n",
       "      <td>...</td>\n",
       "      <td>...</td>\n",
       "      <td>...</td>\n",
       "      <td>...</td>\n",
       "      <td>...</td>\n",
       "      <td>...</td>\n",
       "      <td>...</td>\n",
       "      <td>...</td>\n",
       "      <td>...</td>\n",
       "      <td>...</td>\n",
       "    </tr>\n",
       "    <tr>\n",
       "      <th>14672</th>\n",
       "      <td>274832880</td>\n",
       "      <td>93233214</td>\n",
       "      <td>Caucasian</td>\n",
       "      <td>1</td>\n",
       "      <td>0</td>\n",
       "      <td>1</td>\n",
       "      <td>1</td>\n",
       "      <td>7</td>\n",
       "      <td>2</td>\n",
       "      <td>40</td>\n",
       "      <td>...</td>\n",
       "      <td>0</td>\n",
       "      <td>0</td>\n",
       "      <td>0</td>\n",
       "      <td>No</td>\n",
       "      <td>&gt;30</td>\n",
       "      <td>1</td>\n",
       "      <td>1.0</td>\n",
       "      <td>3</td>\n",
       "      <td>1</td>\n",
       "      <td>5</td>\n",
       "    </tr>\n",
       "    <tr>\n",
       "      <th>14682</th>\n",
       "      <td>288998970</td>\n",
       "      <td>40852710</td>\n",
       "      <td>Caucasian</td>\n",
       "      <td>1</td>\n",
       "      <td>75</td>\n",
       "      <td>1</td>\n",
       "      <td>3</td>\n",
       "      <td>7</td>\n",
       "      <td>12</td>\n",
       "      <td>53</td>\n",
       "      <td>...</td>\n",
       "      <td>0</td>\n",
       "      <td>0</td>\n",
       "      <td>0</td>\n",
       "      <td>No</td>\n",
       "      <td>&gt;30</td>\n",
       "      <td>1</td>\n",
       "      <td>1.0</td>\n",
       "      <td>5</td>\n",
       "      <td>3</td>\n",
       "      <td>1</td>\n",
       "    </tr>\n",
       "    <tr>\n",
       "      <th>14683</th>\n",
       "      <td>236142510</td>\n",
       "      <td>85335615</td>\n",
       "      <td>Caucasian</td>\n",
       "      <td>1</td>\n",
       "      <td>75</td>\n",
       "      <td>1</td>\n",
       "      <td>1</td>\n",
       "      <td>7</td>\n",
       "      <td>7</td>\n",
       "      <td>57</td>\n",
       "      <td>...</td>\n",
       "      <td>0</td>\n",
       "      <td>0</td>\n",
       "      <td>0</td>\n",
       "      <td>No</td>\n",
       "      <td>&lt;30</td>\n",
       "      <td>0</td>\n",
       "      <td>0.0</td>\n",
       "      <td>5</td>\n",
       "      <td>1</td>\n",
       "      <td>3</td>\n",
       "    </tr>\n",
       "    <tr>\n",
       "      <th>14692</th>\n",
       "      <td>196987788</td>\n",
       "      <td>78710643</td>\n",
       "      <td>Caucasian</td>\n",
       "      <td>0</td>\n",
       "      <td>75</td>\n",
       "      <td>1</td>\n",
       "      <td>6</td>\n",
       "      <td>7</td>\n",
       "      <td>2</td>\n",
       "      <td>39</td>\n",
       "      <td>...</td>\n",
       "      <td>1</td>\n",
       "      <td>0</td>\n",
       "      <td>0</td>\n",
       "      <td>No</td>\n",
       "      <td>&gt;30</td>\n",
       "      <td>1</td>\n",
       "      <td>1.0</td>\n",
       "      <td>5</td>\n",
       "      <td>3</td>\n",
       "      <td>3</td>\n",
       "    </tr>\n",
       "    <tr>\n",
       "      <th>14695</th>\n",
       "      <td>169334802</td>\n",
       "      <td>23238954</td>\n",
       "      <td>AfricanAmerican</td>\n",
       "      <td>0</td>\n",
       "      <td>0</td>\n",
       "      <td>1</td>\n",
       "      <td>1</td>\n",
       "      <td>7</td>\n",
       "      <td>1</td>\n",
       "      <td>35</td>\n",
       "      <td>...</td>\n",
       "      <td>1</td>\n",
       "      <td>0</td>\n",
       "      <td>0</td>\n",
       "      <td>Ch</td>\n",
       "      <td>NO</td>\n",
       "      <td>1</td>\n",
       "      <td>2.0</td>\n",
       "      <td>2</td>\n",
       "      <td>3</td>\n",
       "      <td>0</td>\n",
       "    </tr>\n",
       "  </tbody>\n",
       "</table>\n",
       "<p>2885 rows × 43 columns</p>\n",
       "</div>"
      ],
      "text/plain": [
       "       encounter_id  patient_id             race  gender  age  \\\n",
       "5         139109832    24224814  AfricanAmerican       0    0   \n",
       "13        158271282    38671362        Caucasian       0   55   \n",
       "14        125289972    90043443        Caucasian       0   75   \n",
       "16        125981694    24452838  AfricanAmerican       0   75   \n",
       "18        193488420    30942189        Caucasian       0   55   \n",
       "...             ...         ...              ...     ...  ...   \n",
       "14672     274832880    93233214        Caucasian       1    0   \n",
       "14682     288998970    40852710        Caucasian       1   75   \n",
       "14683     236142510    85335615        Caucasian       1   75   \n",
       "14692     196987788    78710643        Caucasian       0   75   \n",
       "14695     169334802    23238954  AfricanAmerican       0    0   \n",
       "\n",
       "       admission_type_id  discharge_disposition_id  admission_source_id  \\\n",
       "5                      1                        23                    7   \n",
       "13                     5                         6                    1   \n",
       "14                     2                         1                    7   \n",
       "16                     3                         6                    4   \n",
       "18                     3                         1                    1   \n",
       "...                  ...                       ...                  ...   \n",
       "14672                  1                         1                    7   \n",
       "14682                  1                         3                    7   \n",
       "14683                  1                         1                    7   \n",
       "14692                  1                         6                    7   \n",
       "14695                  1                         1                    7   \n",
       "\n",
       "       time_in_hospital  tel_3  ...  tel_42  tel_43  tel_44  tel_48  tel_49  \\\n",
       "5                     3     39  ...       1       0       0      Ch      NO   \n",
       "13                    8     61  ...       1       0       0      Ch     >30   \n",
       "14                    3      1  ...       1       0       0      Ch     >30   \n",
       "16                    8     36  ...       1       0       0      No     <30   \n",
       "18                    1      3  ...       1       0       0      Ch     >30   \n",
       "...                 ...    ...  ...     ...     ...     ...     ...     ...   \n",
       "14672                 2     40  ...       0       0       0      No     >30   \n",
       "14682                12     53  ...       0       0       0      No     >30   \n",
       "14683                 7     57  ...       0       0       0      No     <30   \n",
       "14692                 2     39  ...       1       0       0      No     >30   \n",
       "14695                 1     35  ...       1       0       0      Ch      NO   \n",
       "\n",
       "      diabetesMed total_indicators tel_9_category  tel_10_category  \\\n",
       "5               1              2.0              3                3   \n",
       "13              1              2.0              1                6   \n",
       "14              1              3.0              5                5   \n",
       "16              1              1.0              3                6   \n",
       "18              1              2.0              3                3   \n",
       "...           ...              ...            ...              ...   \n",
       "14672           1              1.0              3                1   \n",
       "14682           1              1.0              5                3   \n",
       "14683           0              0.0              5                1   \n",
       "14692           1              1.0              5                3   \n",
       "14695           1              2.0              2                3   \n",
       "\n",
       "       tel_11_category  \n",
       "5                    1  \n",
       "13                   5  \n",
       "14                   1  \n",
       "16                   3  \n",
       "18                   1  \n",
       "...                ...  \n",
       "14672                5  \n",
       "14682                1  \n",
       "14683                3  \n",
       "14692                3  \n",
       "14695                0  \n",
       "\n",
       "[2885 rows x 43 columns]"
      ]
     },
     "execution_count": 28,
     "metadata": {},
     "output_type": "execute_result"
    }
   ],
   "source": [
    "#Check for readmitted patients and remove all visits other than the 1st visit\n",
    "patients = df['patient_id']\n",
    "df[patients.isin(patients[patients.duplicated()])]"
   ]
  },
  {
   "cell_type": "code",
   "execution_count": 29,
   "metadata": {},
   "outputs": [
    {
     "data": {
      "text/plain": [
       "(14011, 43)"
      ]
     },
     "execution_count": 29,
     "metadata": {},
     "output_type": "execute_result"
    }
   ],
   "source": [
    "df.shape"
   ]
  },
  {
   "cell_type": "code",
   "execution_count": 30,
   "metadata": {},
   "outputs": [
    {
     "data": {
      "text/plain": [
       "(12396, 43)"
      ]
     },
     "execution_count": 30,
     "metadata": {},
     "output_type": "execute_result"
    }
   ],
   "source": [
    "\n",
    "\n",
    "#dropping the patients encounters other than 1st visit\n",
    "df = df.drop_duplicates(subset= ['patient_id'], keep = 'first')\n",
    "df.shape\n",
    "\n"
   ]
  },
  {
   "cell_type": "code",
   "execution_count": 31,
   "metadata": {},
   "outputs": [],
   "source": [
    "# converting the admission_type_id, discharge_disposition_id, admission_source_id tel_9_category, tel_10_category,tel_11_category\n",
    "# tel_13, tel_14 into categorical since the magnitudes does not have any intrinsic value\n",
    "df['admission_type_id'] = df['admission_type_id'].astype('object')\n",
    "df['admission_source_id'] = df['admission_source_id'].astype('object')\n",
    "df['discharge_disposition_id'] = df['discharge_disposition_id'].astype('object')\n",
    "df['tel_9_category'] = df['tel_9_category'].astype('object')\n",
    "df['tel_10_category'] = df['tel_10_category'].astype('object')\n",
    "df['tel_11_category'] = df['tel_11_category'].astype('object')\n",
    "df['tel_13'] = df['tel_13'].astype('object')\n",
    "df['tel_14'] = df['tel_14'].astype('object')"
   ]
  },
  {
   "cell_type": "code",
   "execution_count": 32,
   "metadata": {},
   "outputs": [
    {
     "data": {
      "text/html": [
       "<div>\n",
       "<style scoped>\n",
       "    .dataframe tbody tr th:only-of-type {\n",
       "        vertical-align: middle;\n",
       "    }\n",
       "\n",
       "    .dataframe tbody tr th {\n",
       "        vertical-align: top;\n",
       "    }\n",
       "\n",
       "    .dataframe thead th {\n",
       "        text-align: right;\n",
       "    }\n",
       "</style>\n",
       "<table border=\"1\" class=\"dataframe\">\n",
       "  <thead>\n",
       "    <tr style=\"text-align: right;\">\n",
       "      <th></th>\n",
       "      <th>encounter_id</th>\n",
       "      <th>patient_id</th>\n",
       "      <th>race</th>\n",
       "      <th>gender</th>\n",
       "      <th>age</th>\n",
       "      <th>admission_type_id</th>\n",
       "      <th>discharge_disposition_id</th>\n",
       "      <th>admission_source_id</th>\n",
       "      <th>time_in_hospital</th>\n",
       "      <th>tel_3</th>\n",
       "      <th>...</th>\n",
       "      <th>tel_42</th>\n",
       "      <th>tel_43</th>\n",
       "      <th>tel_44</th>\n",
       "      <th>tel_48</th>\n",
       "      <th>tel_49</th>\n",
       "      <th>diabetesMed</th>\n",
       "      <th>total_indicators</th>\n",
       "      <th>tel_9_category</th>\n",
       "      <th>tel_10_category</th>\n",
       "      <th>tel_11_category</th>\n",
       "    </tr>\n",
       "  </thead>\n",
       "  <tbody>\n",
       "    <tr>\n",
       "      <th>0</th>\n",
       "      <td>178974720</td>\n",
       "      <td>61754247</td>\n",
       "      <td>Caucasian</td>\n",
       "      <td>1</td>\n",
       "      <td>0</td>\n",
       "      <td>1</td>\n",
       "      <td>3</td>\n",
       "      <td>7</td>\n",
       "      <td>6</td>\n",
       "      <td>61</td>\n",
       "      <td>...</td>\n",
       "      <td>1</td>\n",
       "      <td>0</td>\n",
       "      <td>0</td>\n",
       "      <td>Ch</td>\n",
       "      <td>&gt;30</td>\n",
       "      <td>1</td>\n",
       "      <td>2.0</td>\n",
       "      <td>6</td>\n",
       "      <td>1</td>\n",
       "      <td>6</td>\n",
       "    </tr>\n",
       "    <tr>\n",
       "      <th>1</th>\n",
       "      <td>111231666</td>\n",
       "      <td>110498427</td>\n",
       "      <td>AfricanAmerican</td>\n",
       "      <td>0</td>\n",
       "      <td>55</td>\n",
       "      <td>3</td>\n",
       "      <td>1</td>\n",
       "      <td>1</td>\n",
       "      <td>2</td>\n",
       "      <td>32</td>\n",
       "      <td>...</td>\n",
       "      <td>0</td>\n",
       "      <td>1</td>\n",
       "      <td>0</td>\n",
       "      <td>No</td>\n",
       "      <td>NO</td>\n",
       "      <td>1</td>\n",
       "      <td>1.0</td>\n",
       "      <td>6</td>\n",
       "      <td>2</td>\n",
       "      <td>3</td>\n",
       "    </tr>\n",
       "    <tr>\n",
       "      <th>2</th>\n",
       "      <td>134751624</td>\n",
       "      <td>91719990</td>\n",
       "      <td>Caucasian</td>\n",
       "      <td>1</td>\n",
       "      <td>0</td>\n",
       "      <td>1</td>\n",
       "      <td>1</td>\n",
       "      <td>7</td>\n",
       "      <td>5</td>\n",
       "      <td>85</td>\n",
       "      <td>...</td>\n",
       "      <td>1</td>\n",
       "      <td>0</td>\n",
       "      <td>0</td>\n",
       "      <td>Ch</td>\n",
       "      <td>&gt;30</td>\n",
       "      <td>1</td>\n",
       "      <td>1.0</td>\n",
       "      <td>3</td>\n",
       "      <td>0</td>\n",
       "      <td>5</td>\n",
       "    </tr>\n",
       "    <tr>\n",
       "      <th>3</th>\n",
       "      <td>254196636</td>\n",
       "      <td>1897758</td>\n",
       "      <td>Caucasian</td>\n",
       "      <td>0</td>\n",
       "      <td>75</td>\n",
       "      <td>3</td>\n",
       "      <td>1</td>\n",
       "      <td>1</td>\n",
       "      <td>3</td>\n",
       "      <td>24</td>\n",
       "      <td>...</td>\n",
       "      <td>1</td>\n",
       "      <td>0</td>\n",
       "      <td>0</td>\n",
       "      <td>Ch</td>\n",
       "      <td>&gt;30</td>\n",
       "      <td>1</td>\n",
       "      <td>2.0</td>\n",
       "      <td>6</td>\n",
       "      <td>1</td>\n",
       "      <td>1</td>\n",
       "    </tr>\n",
       "    <tr>\n",
       "      <th>4</th>\n",
       "      <td>432617750</td>\n",
       "      <td>34636617</td>\n",
       "      <td>Asian</td>\n",
       "      <td>0</td>\n",
       "      <td>0</td>\n",
       "      <td>2</td>\n",
       "      <td>3</td>\n",
       "      <td>5</td>\n",
       "      <td>2</td>\n",
       "      <td>1</td>\n",
       "      <td>...</td>\n",
       "      <td>0</td>\n",
       "      <td>0</td>\n",
       "      <td>0</td>\n",
       "      <td>No</td>\n",
       "      <td>NO</td>\n",
       "      <td>1</td>\n",
       "      <td>1.0</td>\n",
       "      <td>6</td>\n",
       "      <td>6</td>\n",
       "      <td>1</td>\n",
       "    </tr>\n",
       "  </tbody>\n",
       "</table>\n",
       "<p>5 rows × 43 columns</p>\n",
       "</div>"
      ],
      "text/plain": [
       "   encounter_id  patient_id             race  gender  age admission_type_id  \\\n",
       "0     178974720    61754247        Caucasian       1    0                 1   \n",
       "1     111231666   110498427  AfricanAmerican       0   55                 3   \n",
       "2     134751624    91719990        Caucasian       1    0                 1   \n",
       "3     254196636     1897758        Caucasian       0   75                 3   \n",
       "4     432617750    34636617            Asian       0    0                 2   \n",
       "\n",
       "  discharge_disposition_id admission_source_id  time_in_hospital  tel_3  ...  \\\n",
       "0                        3                   7                 6     61  ...   \n",
       "1                        1                   1                 2     32  ...   \n",
       "2                        1                   7                 5     85  ...   \n",
       "3                        1                   1                 3     24  ...   \n",
       "4                        3                   5                 2      1  ...   \n",
       "\n",
       "   tel_42  tel_43  tel_44  tel_48  tel_49 diabetesMed total_indicators  \\\n",
       "0       1       0       0      Ch     >30           1              2.0   \n",
       "1       0       1       0      No      NO           1              1.0   \n",
       "2       1       0       0      Ch     >30           1              1.0   \n",
       "3       1       0       0      Ch     >30           1              2.0   \n",
       "4       0       0       0      No      NO           1              1.0   \n",
       "\n",
       "  tel_9_category  tel_10_category tel_11_category  \n",
       "0              6                1               6  \n",
       "1              6                2               3  \n",
       "2              3                0               5  \n",
       "3              6                1               1  \n",
       "4              6                6               1  \n",
       "\n",
       "[5 rows x 43 columns]"
      ]
     },
     "execution_count": 32,
     "metadata": {},
     "output_type": "execute_result"
    }
   ],
   "source": [
    "df.head()"
   ]
  },
  {
   "cell_type": "code",
   "execution_count": 33,
   "metadata": {},
   "outputs": [],
   "source": [
    "delete_columns =['encounter_id','patient_id','admission_type_id','discharge_disposition_id','admission_source_id', 'tel_3', 'tel_4', 'tel_5', 'tel_6', 'tel_7',\n",
    "       'tel_8', 'tel_9', 'tel_10', 'tel_11','tel_9_category', 'tel_10_category', 'tel_11_category', 'tel_15', 'tel_16', 'tel_17', 'tel_18', 'tel_19', 'tel_21', 'tel_22',\n",
    "       'tel_23', 'tel_24', 'tel_25', 'tel_26', 'tel_27', 'tel_42', 'tel_43',\n",
    "       'tel_44', 'tel_49']"
   ]
  },
  {
   "cell_type": "code",
   "execution_count": 34,
   "metadata": {},
   "outputs": [],
   "source": [
    "#dropping the unnecessary columns\n",
    "df.drop(delete_columns, inplace=True, axis=1)"
   ]
  },
  {
   "cell_type": "code",
   "execution_count": 35,
   "metadata": {},
   "outputs": [
    {
     "data": {
      "text/html": [
       "<div>\n",
       "<style scoped>\n",
       "    .dataframe tbody tr th:only-of-type {\n",
       "        vertical-align: middle;\n",
       "    }\n",
       "\n",
       "    .dataframe tbody tr th {\n",
       "        vertical-align: top;\n",
       "    }\n",
       "\n",
       "    .dataframe thead th {\n",
       "        text-align: right;\n",
       "    }\n",
       "</style>\n",
       "<table border=\"1\" class=\"dataframe\">\n",
       "  <thead>\n",
       "    <tr style=\"text-align: right;\">\n",
       "      <th></th>\n",
       "      <th>race</th>\n",
       "      <th>gender</th>\n",
       "      <th>age</th>\n",
       "      <th>time_in_hospital</th>\n",
       "      <th>tel_12</th>\n",
       "      <th>tel_13</th>\n",
       "      <th>tel_14</th>\n",
       "      <th>tel_48</th>\n",
       "      <th>diabetesMed</th>\n",
       "      <th>total_indicators</th>\n",
       "    </tr>\n",
       "  </thead>\n",
       "  <tbody>\n",
       "    <tr>\n",
       "      <th>0</th>\n",
       "      <td>Caucasian</td>\n",
       "      <td>1</td>\n",
       "      <td>0</td>\n",
       "      <td>6</td>\n",
       "      <td>5</td>\n",
       "      <td>0</td>\n",
       "      <td>0</td>\n",
       "      <td>Ch</td>\n",
       "      <td>1</td>\n",
       "      <td>2.0</td>\n",
       "    </tr>\n",
       "    <tr>\n",
       "      <th>1</th>\n",
       "      <td>AfricanAmerican</td>\n",
       "      <td>0</td>\n",
       "      <td>55</td>\n",
       "      <td>2</td>\n",
       "      <td>4</td>\n",
       "      <td>0</td>\n",
       "      <td>0</td>\n",
       "      <td>No</td>\n",
       "      <td>1</td>\n",
       "      <td>1.0</td>\n",
       "    </tr>\n",
       "    <tr>\n",
       "      <th>2</th>\n",
       "      <td>Caucasian</td>\n",
       "      <td>1</td>\n",
       "      <td>0</td>\n",
       "      <td>5</td>\n",
       "      <td>9</td>\n",
       "      <td>0</td>\n",
       "      <td>0</td>\n",
       "      <td>Ch</td>\n",
       "      <td>1</td>\n",
       "      <td>1.0</td>\n",
       "    </tr>\n",
       "    <tr>\n",
       "      <th>3</th>\n",
       "      <td>Caucasian</td>\n",
       "      <td>0</td>\n",
       "      <td>75</td>\n",
       "      <td>3</td>\n",
       "      <td>7</td>\n",
       "      <td>0</td>\n",
       "      <td>0</td>\n",
       "      <td>Ch</td>\n",
       "      <td>1</td>\n",
       "      <td>2.0</td>\n",
       "    </tr>\n",
       "    <tr>\n",
       "      <th>4</th>\n",
       "      <td>Asian</td>\n",
       "      <td>0</td>\n",
       "      <td>0</td>\n",
       "      <td>2</td>\n",
       "      <td>9</td>\n",
       "      <td>0</td>\n",
       "      <td>0</td>\n",
       "      <td>No</td>\n",
       "      <td>1</td>\n",
       "      <td>1.0</td>\n",
       "    </tr>\n",
       "  </tbody>\n",
       "</table>\n",
       "</div>"
      ],
      "text/plain": [
       "              race  gender  age  time_in_hospital  tel_12 tel_13 tel_14  \\\n",
       "0        Caucasian       1    0                 6       5      0      0   \n",
       "1  AfricanAmerican       0   55                 2       4      0      0   \n",
       "2        Caucasian       1    0                 5       9      0      0   \n",
       "3        Caucasian       0   75                 3       7      0      0   \n",
       "4            Asian       0    0                 2       9      0      0   \n",
       "\n",
       "  tel_48  diabetesMed  total_indicators  \n",
       "0     Ch            1               2.0  \n",
       "1     No            1               1.0  \n",
       "2     Ch            1               1.0  \n",
       "3     Ch            1               2.0  \n",
       "4     No            1               1.0  "
      ]
     },
     "execution_count": 35,
     "metadata": {},
     "output_type": "execute_result"
    }
   ],
   "source": [
    "df.head()"
   ]
  },
  {
   "cell_type": "code",
   "execution_count": 36,
   "metadata": {},
   "outputs": [],
   "source": [
    "# converting tel48 as categorical variables based on values\n",
    "df['tel_48'] = df['tel_48'].apply(lambda x: 0 if x == \"No\" else 1) "
   ]
  },
  {
   "cell_type": "code",
   "execution_count": 37,
   "metadata": {},
   "outputs": [
    {
     "data": {
      "text/html": [
       "<div>\n",
       "<style scoped>\n",
       "    .dataframe tbody tr th:only-of-type {\n",
       "        vertical-align: middle;\n",
       "    }\n",
       "\n",
       "    .dataframe tbody tr th {\n",
       "        vertical-align: top;\n",
       "    }\n",
       "\n",
       "    .dataframe thead th {\n",
       "        text-align: right;\n",
       "    }\n",
       "</style>\n",
       "<table border=\"1\" class=\"dataframe\">\n",
       "  <thead>\n",
       "    <tr style=\"text-align: right;\">\n",
       "      <th></th>\n",
       "      <th>race</th>\n",
       "      <th>gender</th>\n",
       "      <th>age</th>\n",
       "      <th>time_in_hospital</th>\n",
       "      <th>tel_12</th>\n",
       "      <th>tel_13</th>\n",
       "      <th>tel_14</th>\n",
       "      <th>tel_48</th>\n",
       "      <th>diabetesMed</th>\n",
       "      <th>total_indicators</th>\n",
       "    </tr>\n",
       "  </thead>\n",
       "  <tbody>\n",
       "    <tr>\n",
       "      <th>0</th>\n",
       "      <td>Caucasian</td>\n",
       "      <td>1</td>\n",
       "      <td>0</td>\n",
       "      <td>6</td>\n",
       "      <td>5</td>\n",
       "      <td>0</td>\n",
       "      <td>0</td>\n",
       "      <td>1</td>\n",
       "      <td>1</td>\n",
       "      <td>2.0</td>\n",
       "    </tr>\n",
       "    <tr>\n",
       "      <th>1</th>\n",
       "      <td>AfricanAmerican</td>\n",
       "      <td>0</td>\n",
       "      <td>55</td>\n",
       "      <td>2</td>\n",
       "      <td>4</td>\n",
       "      <td>0</td>\n",
       "      <td>0</td>\n",
       "      <td>0</td>\n",
       "      <td>1</td>\n",
       "      <td>1.0</td>\n",
       "    </tr>\n",
       "    <tr>\n",
       "      <th>2</th>\n",
       "      <td>Caucasian</td>\n",
       "      <td>1</td>\n",
       "      <td>0</td>\n",
       "      <td>5</td>\n",
       "      <td>9</td>\n",
       "      <td>0</td>\n",
       "      <td>0</td>\n",
       "      <td>1</td>\n",
       "      <td>1</td>\n",
       "      <td>1.0</td>\n",
       "    </tr>\n",
       "    <tr>\n",
       "      <th>3</th>\n",
       "      <td>Caucasian</td>\n",
       "      <td>0</td>\n",
       "      <td>75</td>\n",
       "      <td>3</td>\n",
       "      <td>7</td>\n",
       "      <td>0</td>\n",
       "      <td>0</td>\n",
       "      <td>1</td>\n",
       "      <td>1</td>\n",
       "      <td>2.0</td>\n",
       "    </tr>\n",
       "    <tr>\n",
       "      <th>4</th>\n",
       "      <td>Asian</td>\n",
       "      <td>0</td>\n",
       "      <td>0</td>\n",
       "      <td>2</td>\n",
       "      <td>9</td>\n",
       "      <td>0</td>\n",
       "      <td>0</td>\n",
       "      <td>0</td>\n",
       "      <td>1</td>\n",
       "      <td>1.0</td>\n",
       "    </tr>\n",
       "  </tbody>\n",
       "</table>\n",
       "</div>"
      ],
      "text/plain": [
       "              race  gender  age  time_in_hospital  tel_12 tel_13 tel_14  \\\n",
       "0        Caucasian       1    0                 6       5      0      0   \n",
       "1  AfricanAmerican       0   55                 2       4      0      0   \n",
       "2        Caucasian       1    0                 5       9      0      0   \n",
       "3        Caucasian       0   75                 3       7      0      0   \n",
       "4            Asian       0    0                 2       9      0      0   \n",
       "\n",
       "   tel_48  diabetesMed  total_indicators  \n",
       "0       1            1               2.0  \n",
       "1       0            1               1.0  \n",
       "2       1            1               1.0  \n",
       "3       1            1               2.0  \n",
       "4       0            1               1.0  "
      ]
     },
     "execution_count": 37,
     "metadata": {},
     "output_type": "execute_result"
    }
   ],
   "source": [
    "df.head()"
   ]
  },
  {
   "cell_type": "code",
   "execution_count": 38,
   "metadata": {},
   "outputs": [
    {
     "data": {
      "text/plain": [
       "array([0, 2, 1], dtype=object)"
      ]
     },
     "execution_count": 38,
     "metadata": {},
     "output_type": "execute_result"
    }
   ],
   "source": [
    "df.tel_14.unique()"
   ]
  },
  {
   "cell_type": "code",
   "execution_count": 39,
   "metadata": {},
   "outputs": [],
   "source": [
    "df['tel_48'] = df['tel_48'].astype('object')"
   ]
  },
  {
   "cell_type": "code",
   "execution_count": 40,
   "metadata": {},
   "outputs": [],
   "source": [
    "\n",
    "from scipy.stats import kurtosis\n",
    "from scipy.stats import skew\n",
    "from matplotlib import pyplot as plt\n",
    "import seaborn as sns\n",
    "%matplotlib inline\n",
    "import warnings\n",
    "warnings.filterwarnings('ignore')"
   ]
  },
  {
   "cell_type": "code",
   "execution_count": 41,
   "metadata": {},
   "outputs": [
    {
     "name": "stdout",
     "output_type": "stream",
     "text": [
      "['race' 'tel_13' 'tel_14' 'tel_48']\n",
      "['gender' 'age' 'time_in_hospital' 'tel_12' 'diabetesMed'\n",
      " 'total_indicators']\n"
     ]
    }
   ],
   "source": [
    "categorical=df.select_dtypes(include=['object'])\n",
    "numeric=df.select_dtypes(exclude=['object'])\n",
    "print(categorical.columns.values)\n",
    "print(numeric.columns.values)"
   ]
  },
  {
   "cell_type": "code",
   "execution_count": 42,
   "metadata": {},
   "outputs": [],
   "source": [
    "# creating dummies for all the categorical variables and deleting the original columns\n",
    "nominal_columns = ['race', 'tel_13', 'tel_14', 'tel_48']\n",
    "dummy_df = pd.get_dummies(df[nominal_columns])\n",
    "df = pd.concat([df, dummy_df], axis=1)\n",
    "df = df.drop(nominal_columns, axis=1)"
   ]
  },
  {
   "cell_type": "code",
   "execution_count": 49,
   "metadata": {},
   "outputs": [
    {
     "data": {
      "text/html": [
       "<div>\n",
       "<style scoped>\n",
       "    .dataframe tbody tr th:only-of-type {\n",
       "        vertical-align: middle;\n",
       "    }\n",
       "\n",
       "    .dataframe tbody tr th {\n",
       "        vertical-align: top;\n",
       "    }\n",
       "\n",
       "    .dataframe thead th {\n",
       "        text-align: right;\n",
       "    }\n",
       "</style>\n",
       "<table border=\"1\" class=\"dataframe\">\n",
       "  <thead>\n",
       "    <tr style=\"text-align: right;\">\n",
       "      <th></th>\n",
       "      <th>gender</th>\n",
       "      <th>age</th>\n",
       "      <th>time_in_hospital</th>\n",
       "      <th>tel_12</th>\n",
       "      <th>diabetesMed</th>\n",
       "      <th>total_indicators</th>\n",
       "      <th>race_AfricanAmerican</th>\n",
       "      <th>race_Asian</th>\n",
       "      <th>race_Caucasian</th>\n",
       "      <th>race_Hispanic</th>\n",
       "      <th>race_Other</th>\n",
       "      <th>tel_13_0</th>\n",
       "      <th>tel_13_1</th>\n",
       "      <th>tel_13_2</th>\n",
       "      <th>tel_14_0</th>\n",
       "      <th>tel_14_1</th>\n",
       "      <th>tel_14_2</th>\n",
       "      <th>tel_48_0</th>\n",
       "      <th>tel_48_1</th>\n",
       "    </tr>\n",
       "  </thead>\n",
       "  <tbody>\n",
       "    <tr>\n",
       "      <th>0</th>\n",
       "      <td>1</td>\n",
       "      <td>0</td>\n",
       "      <td>6</td>\n",
       "      <td>5</td>\n",
       "      <td>1</td>\n",
       "      <td>2.0</td>\n",
       "      <td>0</td>\n",
       "      <td>0</td>\n",
       "      <td>1</td>\n",
       "      <td>0</td>\n",
       "      <td>0</td>\n",
       "      <td>1</td>\n",
       "      <td>0</td>\n",
       "      <td>0</td>\n",
       "      <td>1</td>\n",
       "      <td>0</td>\n",
       "      <td>0</td>\n",
       "      <td>0</td>\n",
       "      <td>1</td>\n",
       "    </tr>\n",
       "    <tr>\n",
       "      <th>1</th>\n",
       "      <td>0</td>\n",
       "      <td>55</td>\n",
       "      <td>2</td>\n",
       "      <td>4</td>\n",
       "      <td>1</td>\n",
       "      <td>1.0</td>\n",
       "      <td>1</td>\n",
       "      <td>0</td>\n",
       "      <td>0</td>\n",
       "      <td>0</td>\n",
       "      <td>0</td>\n",
       "      <td>1</td>\n",
       "      <td>0</td>\n",
       "      <td>0</td>\n",
       "      <td>1</td>\n",
       "      <td>0</td>\n",
       "      <td>0</td>\n",
       "      <td>1</td>\n",
       "      <td>0</td>\n",
       "    </tr>\n",
       "    <tr>\n",
       "      <th>2</th>\n",
       "      <td>1</td>\n",
       "      <td>0</td>\n",
       "      <td>5</td>\n",
       "      <td>9</td>\n",
       "      <td>1</td>\n",
       "      <td>1.0</td>\n",
       "      <td>0</td>\n",
       "      <td>0</td>\n",
       "      <td>1</td>\n",
       "      <td>0</td>\n",
       "      <td>0</td>\n",
       "      <td>1</td>\n",
       "      <td>0</td>\n",
       "      <td>0</td>\n",
       "      <td>1</td>\n",
       "      <td>0</td>\n",
       "      <td>0</td>\n",
       "      <td>0</td>\n",
       "      <td>1</td>\n",
       "    </tr>\n",
       "    <tr>\n",
       "      <th>3</th>\n",
       "      <td>0</td>\n",
       "      <td>75</td>\n",
       "      <td>3</td>\n",
       "      <td>7</td>\n",
       "      <td>1</td>\n",
       "      <td>2.0</td>\n",
       "      <td>0</td>\n",
       "      <td>0</td>\n",
       "      <td>1</td>\n",
       "      <td>0</td>\n",
       "      <td>0</td>\n",
       "      <td>1</td>\n",
       "      <td>0</td>\n",
       "      <td>0</td>\n",
       "      <td>1</td>\n",
       "      <td>0</td>\n",
       "      <td>0</td>\n",
       "      <td>0</td>\n",
       "      <td>1</td>\n",
       "    </tr>\n",
       "    <tr>\n",
       "      <th>4</th>\n",
       "      <td>0</td>\n",
       "      <td>0</td>\n",
       "      <td>2</td>\n",
       "      <td>9</td>\n",
       "      <td>1</td>\n",
       "      <td>1.0</td>\n",
       "      <td>0</td>\n",
       "      <td>1</td>\n",
       "      <td>0</td>\n",
       "      <td>0</td>\n",
       "      <td>0</td>\n",
       "      <td>1</td>\n",
       "      <td>0</td>\n",
       "      <td>0</td>\n",
       "      <td>1</td>\n",
       "      <td>0</td>\n",
       "      <td>0</td>\n",
       "      <td>1</td>\n",
       "      <td>0</td>\n",
       "    </tr>\n",
       "  </tbody>\n",
       "</table>\n",
       "</div>"
      ],
      "text/plain": [
       "   gender  age  time_in_hospital  tel_12  diabetesMed  total_indicators  \\\n",
       "0       1    0                 6       5            1               2.0   \n",
       "1       0   55                 2       4            1               1.0   \n",
       "2       1    0                 5       9            1               1.0   \n",
       "3       0   75                 3       7            1               2.0   \n",
       "4       0    0                 2       9            1               1.0   \n",
       "\n",
       "   race_AfricanAmerican  race_Asian  race_Caucasian  race_Hispanic  \\\n",
       "0                     0           0               1              0   \n",
       "1                     1           0               0              0   \n",
       "2                     0           0               1              0   \n",
       "3                     0           0               1              0   \n",
       "4                     0           1               0              0   \n",
       "\n",
       "   race_Other  tel_13_0  tel_13_1  tel_13_2  tel_14_0  tel_14_1  tel_14_2  \\\n",
       "0           0         1         0         0         1         0         0   \n",
       "1           0         1         0         0         1         0         0   \n",
       "2           0         1         0         0         1         0         0   \n",
       "3           0         1         0         0         1         0         0   \n",
       "4           0         1         0         0         1         0         0   \n",
       "\n",
       "   tel_48_0  tel_48_1  \n",
       "0         0         1  \n",
       "1         1         0  \n",
       "2         0         1  \n",
       "3         0         1  \n",
       "4         1         0  "
      ]
     },
     "execution_count": 49,
     "metadata": {},
     "output_type": "execute_result"
    }
   ],
   "source": [
    "df.head()"
   ]
  },
  {
   "cell_type": "code",
   "execution_count": 43,
   "metadata": {},
   "outputs": [],
   "source": [
    "df1 = df"
   ]
  },
  {
   "cell_type": "code",
   "execution_count": 44,
   "metadata": {},
   "outputs": [],
   "source": [
    "\n",
    "\n",
    "y = df1['diabetesMed']\n",
    "\n"
   ]
  },
  {
   "cell_type": "code",
   "execution_count": 45,
   "metadata": {},
   "outputs": [],
   "source": [
    "X = df.drop('diabetesMed',axis=1)"
   ]
  },
  {
   "cell_type": "code",
   "execution_count": 46,
   "metadata": {},
   "outputs": [],
   "source": [
    "X_train, X_test, Y_train, Y_test = train_test_split(X,y, test_size=0.20, random_state=42)"
   ]
  },
  {
   "cell_type": "code",
   "execution_count": 47,
   "metadata": {},
   "outputs": [],
   "source": [
    "from sklearn.ensemble import RandomForestClassifier\n",
    "from sklearn.feature_selection import SelectFromModel\n",
    "from sklearn.model_selection import GridSearchCV\n",
    "clf = RandomForestClassifier(n_estimators=64, max_features='sqrt')\n",
    "clf = clf.fit(X_train, Y_train)"
   ]
  },
  {
   "cell_type": "code",
   "execution_count": 50,
   "metadata": {},
   "outputs": [],
   "source": [
    "features = pd.DataFrame()\n",
    "features['feature'] = X_train.columns\n",
    "features['importance'] = clf.feature_importances_\n",
    "features.sort_values(by=['importance'], ascending=True, inplace=True)\n",
    "features.set_index('feature', inplace=True)"
   ]
  },
  {
   "cell_type": "code",
   "execution_count": 51,
   "metadata": {},
   "outputs": [
    {
     "data": {
      "text/plain": [
       "<matplotlib.axes._subplots.AxesSubplot at 0x13e19930>"
      ]
     },
     "execution_count": 51,
     "metadata": {},
     "output_type": "execute_result"
    },
    {
     "data": {
      "image/png": "[encoded data removed]",
      "text/plain": [
       "<Figure size 1440x1440 with 1 Axes>"
      ]
     },
     "metadata": {
      "needs_background": "light"
     },
     "output_type": "display_data"
    }
   ],
   "source": [
    "features.plot(kind='barh', figsize=(20, 20))"
   ]
  },
  {
   "cell_type": "code",
   "execution_count": 54,
   "metadata": {},
   "outputs": [],
   "source": [
    "#deleting low important features\n",
    "delete_features= ['gender', 'race_AfricanAmerican', 'race_Asian',\n",
    "       'race_Caucasian', 'race_Hispanic', 'race_Other','tel_13_0', 'tel_13_1',\n",
    "       'tel_13_2', 'tel_14_0', 'tel_14_1', 'tel_14_2']"
   ]
  },
  {
   "cell_type": "code",
   "execution_count": 56,
   "metadata": {},
   "outputs": [],
   "source": [
    "df_final = df1.drop(delete_features, axis = 1)"
   ]
  },
  {
   "cell_type": "code",
   "execution_count": 57,
   "metadata": {},
   "outputs": [
    {
     "data": {
      "text/html": [
       "<div>\n",
       "<style scoped>\n",
       "    .dataframe tbody tr th:only-of-type {\n",
       "        vertical-align: middle;\n",
       "    }\n",
       "\n",
       "    .dataframe tbody tr th {\n",
       "        vertical-align: top;\n",
       "    }\n",
       "\n",
       "    .dataframe thead th {\n",
       "        text-align: right;\n",
       "    }\n",
       "</style>\n",
       "<table border=\"1\" class=\"dataframe\">\n",
       "  <thead>\n",
       "    <tr style=\"text-align: right;\">\n",
       "      <th></th>\n",
       "      <th>age</th>\n",
       "      <th>time_in_hospital</th>\n",
       "      <th>tel_12</th>\n",
       "      <th>diabetesMed</th>\n",
       "      <th>total_indicators</th>\n",
       "      <th>tel_48_0</th>\n",
       "      <th>tel_48_1</th>\n",
       "    </tr>\n",
       "  </thead>\n",
       "  <tbody>\n",
       "    <tr>\n",
       "      <th>0</th>\n",
       "      <td>0</td>\n",
       "      <td>6</td>\n",
       "      <td>5</td>\n",
       "      <td>1</td>\n",
       "      <td>2.0</td>\n",
       "      <td>0</td>\n",
       "      <td>1</td>\n",
       "    </tr>\n",
       "    <tr>\n",
       "      <th>1</th>\n",
       "      <td>55</td>\n",
       "      <td>2</td>\n",
       "      <td>4</td>\n",
       "      <td>1</td>\n",
       "      <td>1.0</td>\n",
       "      <td>1</td>\n",
       "      <td>0</td>\n",
       "    </tr>\n",
       "    <tr>\n",
       "      <th>2</th>\n",
       "      <td>0</td>\n",
       "      <td>5</td>\n",
       "      <td>9</td>\n",
       "      <td>1</td>\n",
       "      <td>1.0</td>\n",
       "      <td>0</td>\n",
       "      <td>1</td>\n",
       "    </tr>\n",
       "    <tr>\n",
       "      <th>3</th>\n",
       "      <td>75</td>\n",
       "      <td>3</td>\n",
       "      <td>7</td>\n",
       "      <td>1</td>\n",
       "      <td>2.0</td>\n",
       "      <td>0</td>\n",
       "      <td>1</td>\n",
       "    </tr>\n",
       "    <tr>\n",
       "      <th>4</th>\n",
       "      <td>0</td>\n",
       "      <td>2</td>\n",
       "      <td>9</td>\n",
       "      <td>1</td>\n",
       "      <td>1.0</td>\n",
       "      <td>1</td>\n",
       "      <td>0</td>\n",
       "    </tr>\n",
       "    <tr>\n",
       "      <th>...</th>\n",
       "      <td>...</td>\n",
       "      <td>...</td>\n",
       "      <td>...</td>\n",
       "      <td>...</td>\n",
       "      <td>...</td>\n",
       "      <td>...</td>\n",
       "      <td>...</td>\n",
       "    </tr>\n",
       "    <tr>\n",
       "      <th>14689</th>\n",
       "      <td>55</td>\n",
       "      <td>1</td>\n",
       "      <td>9</td>\n",
       "      <td>0</td>\n",
       "      <td>0.0</td>\n",
       "      <td>1</td>\n",
       "      <td>0</td>\n",
       "    </tr>\n",
       "    <tr>\n",
       "      <th>14690</th>\n",
       "      <td>75</td>\n",
       "      <td>6</td>\n",
       "      <td>9</td>\n",
       "      <td>1</td>\n",
       "      <td>2.0</td>\n",
       "      <td>0</td>\n",
       "      <td>1</td>\n",
       "    </tr>\n",
       "    <tr>\n",
       "      <th>14691</th>\n",
       "      <td>75</td>\n",
       "      <td>2</td>\n",
       "      <td>8</td>\n",
       "      <td>1</td>\n",
       "      <td>2.0</td>\n",
       "      <td>0</td>\n",
       "      <td>1</td>\n",
       "    </tr>\n",
       "    <tr>\n",
       "      <th>14693</th>\n",
       "      <td>0</td>\n",
       "      <td>4</td>\n",
       "      <td>9</td>\n",
       "      <td>0</td>\n",
       "      <td>0.0</td>\n",
       "      <td>1</td>\n",
       "      <td>0</td>\n",
       "    </tr>\n",
       "    <tr>\n",
       "      <th>14694</th>\n",
       "      <td>35</td>\n",
       "      <td>2</td>\n",
       "      <td>5</td>\n",
       "      <td>1</td>\n",
       "      <td>2.0</td>\n",
       "      <td>0</td>\n",
       "      <td>1</td>\n",
       "    </tr>\n",
       "  </tbody>\n",
       "</table>\n",
       "<p>12396 rows × 7 columns</p>\n",
       "</div>"
      ],
      "text/plain": [
       "       age  time_in_hospital  tel_12  diabetesMed  total_indicators  tel_48_0  \\\n",
       "0        0                 6       5            1               2.0         0   \n",
       "1       55                 2       4            1               1.0         1   \n",
       "2        0                 5       9            1               1.0         0   \n",
       "3       75                 3       7            1               2.0         0   \n",
       "4        0                 2       9            1               1.0         1   \n",
       "...    ...               ...     ...          ...               ...       ...   \n",
       "14689   55                 1       9            0               0.0         1   \n",
       "14690   75                 6       9            1               2.0         0   \n",
       "14691   75                 2       8            1               2.0         0   \n",
       "14693    0                 4       9            0               0.0         1   \n",
       "14694   35                 2       5            1               2.0         0   \n",
       "\n",
       "       tel_48_1  \n",
       "0             1  \n",
       "1             0  \n",
       "2             1  \n",
       "3             1  \n",
       "4             0  \n",
       "...         ...  \n",
       "14689         0  \n",
       "14690         1  \n",
       "14691         1  \n",
       "14693         0  \n",
       "14694         1  \n",
       "\n",
       "[12396 rows x 7 columns]"
      ]
     },
     "execution_count": 57,
     "metadata": {},
     "output_type": "execute_result"
    }
   ],
   "source": [
    "df_final"
   ]
  },
  {
   "cell_type": "code",
   "execution_count": 58,
   "metadata": {},
   "outputs": [],
   "source": [
    "y = df_final['diabetesMed']"
   ]
  },
  {
   "cell_type": "code",
   "execution_count": 59,
   "metadata": {},
   "outputs": [],
   "source": [
    "X = df_final.drop('diabetesMed',axis=1)"
   ]
  },
  {
   "cell_type": "code",
   "execution_count": 60,
   "metadata": {},
   "outputs": [],
   "source": [
    "\n",
    "\n",
    "X_train, X_test, Y_train, Y_test = train_test_split(X,y, test_size=0.20, random_state=42)\n",
    "\n"
   ]
  },
  {
   "cell_type": "code",
   "execution_count": 61,
   "metadata": {},
   "outputs": [],
   "source": [
    "#decisiontree\n",
    "from sklearn.tree import DecisionTreeClassifier\n",
    "from sklearn.metrics import classification_report, f1_score, accuracy_score, precision_score, recall_score"
   ]
  },
  {
   "cell_type": "code",
   "execution_count": 62,
   "metadata": {},
   "outputs": [],
   "source": [
    "from sklearn.model_selection import cross_val_score\n",
    "\n",
    "performance = []\n",
    "for max_depth in [2,3,5,7,10]:\n",
    "    dTree = DecisionTreeClassifier(criterion='entropy', class_weight = \"balanced\", max_depth=max_depth)\n",
    "    performance.append((max_depth, np.mean(cross_val_score(dTree, X_train, Y_train, cv = 10, scoring = \"f1_micro\"))))"
   ]
  },
  {
   "cell_type": "code",
   "execution_count": 63,
   "metadata": {},
   "outputs": [
    {
     "name": "stdout",
     "output_type": "stream",
     "text": [
      "[(2, 1.0), (3, 1.0), (5, 1.0), (7, 1.0), (10, 1.0)]\n",
      "The best tree size is: \n"
     ]
    },
    {
     "data": {
      "text/plain": [
       "'10'"
      ]
     },
     "execution_count": 63,
     "metadata": {},
     "output_type": "execute_result"
    }
   ],
   "source": [
    "print(performance)\n",
    "print(\"The best tree size is: \") \n",
    "str(sorted(performance, key = lambda x: x[1])[-1][0])"
   ]
  },
  {
   "cell_type": "code",
   "execution_count": 64,
   "metadata": {},
   "outputs": [
    {
     "data": {
      "text/html": [
       "<div>\n",
       "<style scoped>\n",
       "    .dataframe tbody tr th:only-of-type {\n",
       "        vertical-align: middle;\n",
       "    }\n",
       "\n",
       "    .dataframe tbody tr th {\n",
       "        vertical-align: top;\n",
       "    }\n",
       "\n",
       "    .dataframe thead th {\n",
       "        text-align: right;\n",
       "    }\n",
       "</style>\n",
       "<table border=\"1\" class=\"dataframe\">\n",
       "  <thead>\n",
       "    <tr style=\"text-align: right;\">\n",
       "      <th></th>\n",
       "      <th>age</th>\n",
       "      <th>time_in_hospital</th>\n",
       "      <th>tel_12</th>\n",
       "      <th>total_indicators</th>\n",
       "      <th>tel_48_0</th>\n",
       "      <th>tel_48_1</th>\n",
       "    </tr>\n",
       "  </thead>\n",
       "  <tbody>\n",
       "    <tr>\n",
       "      <th>2373</th>\n",
       "      <td>0</td>\n",
       "      <td>2</td>\n",
       "      <td>5</td>\n",
       "      <td>1.0</td>\n",
       "      <td>1</td>\n",
       "      <td>0</td>\n",
       "    </tr>\n",
       "    <tr>\n",
       "      <th>8434</th>\n",
       "      <td>0</td>\n",
       "      <td>4</td>\n",
       "      <td>9</td>\n",
       "      <td>0.0</td>\n",
       "      <td>1</td>\n",
       "      <td>0</td>\n",
       "    </tr>\n",
       "    <tr>\n",
       "      <th>10796</th>\n",
       "      <td>25</td>\n",
       "      <td>4</td>\n",
       "      <td>9</td>\n",
       "      <td>1.0</td>\n",
       "      <td>1</td>\n",
       "      <td>0</td>\n",
       "    </tr>\n",
       "    <tr>\n",
       "      <th>8646</th>\n",
       "      <td>65</td>\n",
       "      <td>1</td>\n",
       "      <td>5</td>\n",
       "      <td>1.0</td>\n",
       "      <td>1</td>\n",
       "      <td>0</td>\n",
       "    </tr>\n",
       "    <tr>\n",
       "      <th>4130</th>\n",
       "      <td>45</td>\n",
       "      <td>2</td>\n",
       "      <td>3</td>\n",
       "      <td>1.0</td>\n",
       "      <td>1</td>\n",
       "      <td>0</td>\n",
       "    </tr>\n",
       "    <tr>\n",
       "      <th>...</th>\n",
       "      <td>...</td>\n",
       "      <td>...</td>\n",
       "      <td>...</td>\n",
       "      <td>...</td>\n",
       "      <td>...</td>\n",
       "      <td>...</td>\n",
       "    </tr>\n",
       "    <tr>\n",
       "      <th>14131</th>\n",
       "      <td>35</td>\n",
       "      <td>1</td>\n",
       "      <td>9</td>\n",
       "      <td>1.0</td>\n",
       "      <td>1</td>\n",
       "      <td>0</td>\n",
       "    </tr>\n",
       "    <tr>\n",
       "      <th>5757</th>\n",
       "      <td>45</td>\n",
       "      <td>2</td>\n",
       "      <td>8</td>\n",
       "      <td>3.0</td>\n",
       "      <td>0</td>\n",
       "      <td>1</td>\n",
       "    </tr>\n",
       "    <tr>\n",
       "      <th>5998</th>\n",
       "      <td>75</td>\n",
       "      <td>4</td>\n",
       "      <td>9</td>\n",
       "      <td>1.0</td>\n",
       "      <td>0</td>\n",
       "      <td>1</td>\n",
       "    </tr>\n",
       "    <tr>\n",
       "      <th>919</th>\n",
       "      <td>75</td>\n",
       "      <td>3</td>\n",
       "      <td>8</td>\n",
       "      <td>1.0</td>\n",
       "      <td>1</td>\n",
       "      <td>0</td>\n",
       "    </tr>\n",
       "    <tr>\n",
       "      <th>8221</th>\n",
       "      <td>75</td>\n",
       "      <td>4</td>\n",
       "      <td>7</td>\n",
       "      <td>0.0</td>\n",
       "      <td>1</td>\n",
       "      <td>0</td>\n",
       "    </tr>\n",
       "  </tbody>\n",
       "</table>\n",
       "<p>9916 rows × 6 columns</p>\n",
       "</div>"
      ],
      "text/plain": [
       "       age  time_in_hospital  tel_12  total_indicators  tel_48_0  tel_48_1\n",
       "2373     0                 2       5               1.0         1         0\n",
       "8434     0                 4       9               0.0         1         0\n",
       "10796   25                 4       9               1.0         1         0\n",
       "8646    65                 1       5               1.0         1         0\n",
       "4130    45                 2       3               1.0         1         0\n",
       "...    ...               ...     ...               ...       ...       ...\n",
       "14131   35                 1       9               1.0         1         0\n",
       "5757    45                 2       8               3.0         0         1\n",
       "5998    75                 4       9               1.0         0         1\n",
       "919     75                 3       8               1.0         1         0\n",
       "8221    75                 4       7               0.0         1         0\n",
       "\n",
       "[9916 rows x 6 columns]"
      ]
     },
     "execution_count": 64,
     "metadata": {},
     "output_type": "execute_result"
    }
   ],
   "source": [
    "X_train"
   ]
  },
  {
   "cell_type": "code",
   "execution_count": 65,
   "metadata": {},
   "outputs": [
    {
     "name": "stdout",
     "output_type": "stream",
     "text": [
      "Test Results:\n",
      "              precision    recall  f1-score   support\n",
      "\n",
      "           0       1.00      1.00      1.00       252\n",
      "           1       1.00      1.00      1.00      2228\n",
      "\n",
      "    accuracy                           1.00      2480\n",
      "   macro avg       1.00      1.00      1.00      2480\n",
      "weighted avg       1.00      1.00      1.00      2480\n",
      "\n"
     ]
    }
   ],
   "source": [
    "from sklearn.model_selection import cross_val_score, KFold\n",
    "\n",
    "dTree = DecisionTreeClassifier(criterion='entropy', class_weight='balanced', max_depth = 5)\n",
    "kf = KFold(n_splits=10, shuffle=True, random_state=0)\n",
    "dTree.fit(X_train, Y_train)\n",
    "\n",
    "print(\"Test Results:\")\n",
    "y_prediction = dTree.predict(X_test)\n",
    "print(classification_report(Y_test, y_prediction))"
   ]
  },
  {
   "cell_type": "code",
   "execution_count": 66,
   "metadata": {},
   "outputs": [
    {
     "data": {
      "text/plain": [
       "LogisticRegressionCV(class_weight='balanced', cv=10)"
      ]
     },
     "execution_count": 66,
     "metadata": {},
     "output_type": "execute_result"
    }
   ],
   "source": [
    "from sklearn.linear_model import LogisticRegressionCV\n",
    "from sklearn.preprocessing import StandardScaler\n",
    "\n",
    "scaler = StandardScaler()\n",
    "X_train_normal = scaler.fit_transform(X_train)\n",
    "X_test_normal = scaler.transform(X_test)\n",
    "\n",
    "model = LogisticRegressionCV(Cs = 10, cv = 10, class_weight = \"balanced\")\n",
    "model.fit(X_train_normal, Y_train)"
   ]
  },
  {
   "cell_type": "code",
   "execution_count": 67,
   "metadata": {},
   "outputs": [
    {
     "name": "stdout",
     "output_type": "stream",
     "text": [
      "              precision    recall  f1-score   support\n",
      "\n",
      "           0       1.00      1.00      1.00       252\n",
      "           1       1.00      1.00      1.00      2228\n",
      "\n",
      "    accuracy                           1.00      2480\n",
      "   macro avg       1.00      1.00      1.00      2480\n",
      "weighted avg       1.00      1.00      1.00      2480\n",
      "\n"
     ]
    }
   ],
   "source": [
    "y_prediction = model.predict(X_test_normal)\n",
    "print(classification_report(y_prediction, Y_test))\n"
   ]
  },
  {
   "cell_type": "code",
   "execution_count": 77,
   "metadata": {},
   "outputs": [],
   "source": [
    "#test dataset\n",
    "dframe=pd.read_csv(\"test.csv\",header=0,skiprows=0,engine='python')\n",
    "ids = dframe['encounter_id']\n",
    "dframe[ids.isin(ids[ids.duplicated()])]\n",
    "dframe = dframe.replace('?', np.NaN )\n",
    "dframe = dframe.replace('Unknown/Invalid', np.NaN )"
   ]
  },
  {
   "cell_type": "code",
   "execution_count": 78,
   "metadata": {},
   "outputs": [
    {
     "name": "stdout",
     "output_type": "stream",
     "text": [
      "['race' 'tel_13' 'tel_14' 'tel_48']\n",
      "['encounter_id' 'gender' 'age' 'time_in_hospital' 'tel_12'\n",
      " 'total_indicators']\n"
     ]
    }
   ],
   "source": [
    "dframe.drop(['weight','tel_1', 'tel_2'],axis=1,inplace=True)\n",
    "dframe.drop(['tel_30', 'tel_41','tel_47','tel_20','tel_28','tel_29','tel_45','tel_46','tel_47'], axis = 1,inplace=True)\n",
    "dframe['gender'] = dframe['gender'].apply(lambda x: 0 if x == \"Female\" else 1) \n",
    "drop_Idx = set(dframe[(dframe['tel_9'] == '?') & (dframe['tel_10'] == '?') & (dframe['tel_11'] == '?')].index)\n",
    "\n",
    "drop_Idx = drop_Idx.union(set(dframe['tel_9'][dframe['tel_9'] == '?'].index))\n",
    "drop_Idx = drop_Idx.union(set(dframe['tel_10'][dframe['tel_10'] == '?'].index))\n",
    "drop_Idx = drop_Idx.union(set(dframe['tel_11'][dframe['tel_11'] == '?'].index))\n",
    "drop_Idx = drop_Idx.union(set(dframe['race'][dframe['race'] == '?'].index))\n",
    "drop_Idx = drop_Idx.union(set(dframe[dframe['discharge_disposition_id'] == 11].index))\n",
    "drop_Idx = drop_Idx.union(set(dframe['gender'][dframe['gender'] == 'Unknown/Invalid'].index))\n",
    "new_Idx = list(set(dframe.index) - set(drop_Idx))\n",
    "dframe = dframe.iloc[new_Idx]\n",
    "def agecategory(x):\n",
    "    \n",
    "    if x == \"[0-10)\" :\n",
    "        return 5\n",
    "    elif x == \"[10-20)\":\n",
    "        return 15\n",
    "    elif x == \"[20-30)\":\n",
    "        return 25\n",
    "    elif x == \"[30-40)\":\n",
    "        return 35\n",
    "    elif x == \"[40-50)\":\n",
    "        return 45\n",
    "    elif x == \"[50-60)\":\n",
    "        return 55\n",
    "    elif x == \"[60-70)\":\n",
    "        return 65\n",
    "    elif x == \"[70-80)\":\n",
    "        return 75\n",
    "    else:\n",
    "        return 0\n",
    "dframe['age'] = dframe['age'].apply(lambda x: agecategory(x))\n",
    "indicators = ['tel_15', 'tel_16', 'tel_17', 'tel_18', 'tel_19', 'tel_21', 'tel_22',\n",
    "       'tel_23', 'tel_24', 'tel_25', 'tel_26', 'tel_27', 'tel_42', 'tel_43',\n",
    "       'tel_44']\n",
    "for i in indicators:\n",
    "    dframe[i] = dframe[i].apply(lambda x: 0 if x == \"No\" else 1)\n",
    "dframe['total_indicators'] = np.zeros((len(dframe['tel_15'])))\n",
    "for col in indicators:\n",
    "    dframe['total_indicators'] += dframe[col]\n",
    "dframe['tel_13'] = dframe['tel_13'].apply(lambda x: 0 if x == \"None\" else (1 if x==\"Norm\" else 2) )\n",
    "dframe['tel_14'] = dframe['tel_14'].apply(lambda x: 0 if x == \"None\" else (1 if x==\"Norm\" else 2) )\n",
    "dframe['tel_48'] = dframe['tel_48'].apply(lambda x: 0 if x == \"No\" else 1) \n",
    "patients = dframe['patient_id']\n",
    "dframe[patients.isin(patients[patients.duplicated()])]\n",
    "dframe = dframe.drop_duplicates(subset= ['patient_id'], keep = 'first')\n",
    "dframe['admission_type_id'] = dframe['admission_type_id'].astype('object')\n",
    "dframe['admission_source_id'] = dframe['admission_source_id'].astype('object')\n",
    "dframe['discharge_disposition_id'] = dframe['discharge_disposition_id'].astype('object')\n",
    "dframe['tel_48'] = dframe['tel_48'].astype('object')\n",
    "dframe['tel_13'] = dframe['tel_13'].astype('object')\n",
    "dframe['tel_14'] = dframe['tel_14'].astype('object')\n",
    "delete_columns =['patient_id','admission_type_id','discharge_disposition_id','admission_source_id', 'tel_3', 'tel_4', 'tel_5', 'tel_6', 'tel_7',\n",
    "       'tel_8', 'tel_9', 'tel_10', 'tel_11', 'tel_15', 'tel_16', 'tel_17', 'tel_18', 'tel_19', 'tel_21', 'tel_22',\n",
    "       'tel_23', 'tel_24', 'tel_25', 'tel_26', 'tel_27', 'tel_42', 'tel_43',\n",
    "       'tel_44', 'tel_49']\n",
    "dframe.drop(delete_columns, inplace=True, axis=1)\n",
    "categorical=dframe.select_dtypes(include=['object'])\n",
    "numeric=dframe.select_dtypes(exclude=['object'])\n",
    "print(categorical.columns.values)\n",
    "print(numeric.columns.values)\n",
    "nominal_columns = ['race', 'tel_13', 'tel_14', 'tel_48']\n",
    "dummy_dframe = pd.get_dummies(dframe[nominal_columns])\n",
    "dframe = pd.concat([dframe, dummy_dframe], axis=1)\n",
    "dframe = dframe.drop(nominal_columns, axis=1)\n",
    "delete_features= ['gender', 'race_AfricanAmerican', 'race_Asian',\n",
    "       'race_Caucasian', 'race_Hispanic', 'race_Other','tel_13_0', 'tel_13_1',\n",
    "       'tel_13_2', 'tel_14_0', 'tel_14_1', 'tel_14_2']\n",
    "dframe = dframe.drop(delete_features, axis = 1)\n",
    "\n",
    "\n"
   ]
  },
  {
   "cell_type": "code",
   "execution_count": 79,
   "metadata": {},
   "outputs": [
    {
     "data": {
      "text/html": [
       "<div>\n",
       "<style scoped>\n",
       "    .dataframe tbody tr th:only-of-type {\n",
       "        vertical-align: middle;\n",
       "    }\n",
       "\n",
       "    .dataframe tbody tr th {\n",
       "        vertical-align: top;\n",
       "    }\n",
       "\n",
       "    .dataframe thead th {\n",
       "        text-align: right;\n",
       "    }\n",
       "</style>\n",
       "<table border=\"1\" class=\"dataframe\">\n",
       "  <thead>\n",
       "    <tr style=\"text-align: right;\">\n",
       "      <th></th>\n",
       "      <th>encounter_id</th>\n",
       "      <th>age</th>\n",
       "      <th>time_in_hospital</th>\n",
       "      <th>tel_12</th>\n",
       "      <th>total_indicators</th>\n",
       "      <th>tel_48_0</th>\n",
       "      <th>tel_48_1</th>\n",
       "    </tr>\n",
       "  </thead>\n",
       "  <tbody>\n",
       "    <tr>\n",
       "      <th>0</th>\n",
       "      <td>97074168</td>\n",
       "      <td>65</td>\n",
       "      <td>4</td>\n",
       "      <td>7</td>\n",
       "      <td>1.0</td>\n",
       "      <td>1</td>\n",
       "      <td>0</td>\n",
       "    </tr>\n",
       "    <tr>\n",
       "      <th>1</th>\n",
       "      <td>38255910</td>\n",
       "      <td>65</td>\n",
       "      <td>4</td>\n",
       "      <td>4</td>\n",
       "      <td>2.0</td>\n",
       "      <td>0</td>\n",
       "      <td>1</td>\n",
       "    </tr>\n",
       "    <tr>\n",
       "      <th>2</th>\n",
       "      <td>36573714</td>\n",
       "      <td>75</td>\n",
       "      <td>3</td>\n",
       "      <td>7</td>\n",
       "      <td>0.0</td>\n",
       "      <td>1</td>\n",
       "      <td>0</td>\n",
       "    </tr>\n",
       "  </tbody>\n",
       "</table>\n",
       "</div>"
      ],
      "text/plain": [
       "   encounter_id  age  time_in_hospital  tel_12  total_indicators  tel_48_0  \\\n",
       "0      97074168   65                 4       7               1.0         1   \n",
       "1      38255910   65                 4       4               2.0         0   \n",
       "2      36573714   75                 3       7               0.0         1   \n",
       "\n",
       "   tel_48_1  \n",
       "0         0  \n",
       "1         1  \n",
       "2         0  "
      ]
     },
     "execution_count": 79,
     "metadata": {},
     "output_type": "execute_result"
    }
   ],
   "source": [
    "dframe[0:3]"
   ]
  },
  {
   "cell_type": "code",
   "execution_count": 80,
   "metadata": {},
   "outputs": [],
   "source": [
    "dfnew= dframe.iloc[:,1:7]"
   ]
  },
  {
   "cell_type": "code",
   "execution_count": 81,
   "metadata": {},
   "outputs": [],
   "source": [
    "#predicting using Decision Tree Classifier\n",
    "y_prediction_DTC = dTree.predict(dfnew[1:])"
   ]
  },
  {
   "cell_type": "code",
   "execution_count": 82,
   "metadata": {},
   "outputs": [],
   "source": [
    "dfnew = dfnew.reset_index(drop=True)"
   ]
  },
  {
   "cell_type": "code",
   "execution_count": 83,
   "metadata": {},
   "outputs": [
    {
     "name": "stdout",
     "output_type": "stream",
     "text": [
      "age                 0\n",
      "time_in_hospital    0\n",
      "tel_12              0\n",
      "total_indicators    0\n",
      "tel_48_0            0\n",
      "tel_48_1            0\n",
      "dtype: int64\n"
     ]
    }
   ],
   "source": [
    "print(dfnew.isnull().sum())"
   ]
  },
  {
   "cell_type": "code",
   "execution_count": 84,
   "metadata": {},
   "outputs": [],
   "source": [
    "#predicting using logistic regression classifier\n",
    "data2_scalar = scaler.fit_transform(dfnew)\n",
    "y_prediction_LRC = model.predict(data2_scalar)"
   ]
  },
  {
   "cell_type": "code",
   "execution_count": 85,
   "metadata": {},
   "outputs": [],
   "source": [
    "predicted_probability = model.predict_proba(data2_scalar)"
   ]
  },
  {
   "cell_type": "code",
   "execution_count": 86,
   "metadata": {},
   "outputs": [],
   "source": [
    "predicted_probability = pd.DataFrame(predicted_probability)"
   ]
  },
  {
   "cell_type": "code",
   "execution_count": 87,
   "metadata": {},
   "outputs": [],
   "source": [
    "dframe['y_prediction_LRC'] = pd.DataFrame(y_prediction_LRC)"
   ]
  },
  {
   "cell_type": "code",
   "execution_count": 88,
   "metadata": {},
   "outputs": [],
   "source": [
    "dframe['y_prediction_DTC'] = pd.DataFrame(y_prediction_DTC)[0]"
   ]
  },
  {
   "cell_type": "code",
   "execution_count": 89,
   "metadata": {},
   "outputs": [],
   "source": [
    "dframe['predicted_probability_LR_0'] = pd.DataFrame(predicted_probability)[0]"
   ]
  },
  {
   "cell_type": "code",
   "execution_count": 90,
   "metadata": {},
   "outputs": [],
   "source": [
    "dframe['predicted_probability_LR_1'] = pd.DataFrame(predicted_probability)[1]"
   ]
  },
  {
   "cell_type": "code",
   "execution_count": 91,
   "metadata": {},
   "outputs": [],
   "source": [
    "predicted_probability_decisiontree = dTree.predict_proba(dfnew)\n",
    "dframe['predicted_probability_decisiontree_0'] = pd.DataFrame(predicted_probability_decisiontree)[0]\n",
    "dframe['predicted_probability_decisiontree_1'] = pd.DataFrame(predicted_probability_decisiontree)[1]"
   ]
  },
  {
   "cell_type": "code",
   "execution_count": 92,
   "metadata": {},
   "outputs": [
    {
     "data": {
      "text/html": [
       "<div>\n",
       "<style scoped>\n",
       "    .dataframe tbody tr th:only-of-type {\n",
       "        vertical-align: middle;\n",
       "    }\n",
       "\n",
       "    .dataframe tbody tr th {\n",
       "        vertical-align: top;\n",
       "    }\n",
       "\n",
       "    .dataframe thead th {\n",
       "        text-align: right;\n",
       "    }\n",
       "</style>\n",
       "<table border=\"1\" class=\"dataframe\">\n",
       "  <thead>\n",
       "    <tr style=\"text-align: right;\">\n",
       "      <th></th>\n",
       "      <th>encounter_id</th>\n",
       "      <th>age</th>\n",
       "      <th>time_in_hospital</th>\n",
       "      <th>tel_12</th>\n",
       "      <th>total_indicators</th>\n",
       "      <th>tel_48_0</th>\n",
       "      <th>tel_48_1</th>\n",
       "      <th>y_prediction_LRC</th>\n",
       "      <th>y_prediction_DTC</th>\n",
       "      <th>predicted_probability_LR_0</th>\n",
       "      <th>predicted_probability_LR_1</th>\n",
       "      <th>predicted_probability_decisiontree_0</th>\n",
       "      <th>predicted_probability_decisiontree_1</th>\n",
       "    </tr>\n",
       "  </thead>\n",
       "  <tbody>\n",
       "    <tr>\n",
       "      <th>0</th>\n",
       "      <td>97074168</td>\n",
       "      <td>65</td>\n",
       "      <td>4</td>\n",
       "      <td>7</td>\n",
       "      <td>1.0</td>\n",
       "      <td>1</td>\n",
       "      <td>0</td>\n",
       "      <td>1.0</td>\n",
       "      <td>1.0</td>\n",
       "      <td>0.024166</td>\n",
       "      <td>0.975834</td>\n",
       "      <td>0.0</td>\n",
       "      <td>1.0</td>\n",
       "    </tr>\n",
       "    <tr>\n",
       "      <th>1</th>\n",
       "      <td>38255910</td>\n",
       "      <td>65</td>\n",
       "      <td>4</td>\n",
       "      <td>4</td>\n",
       "      <td>2.0</td>\n",
       "      <td>0</td>\n",
       "      <td>1</td>\n",
       "      <td>1.0</td>\n",
       "      <td>0.0</td>\n",
       "      <td>0.000089</td>\n",
       "      <td>0.999911</td>\n",
       "      <td>0.0</td>\n",
       "      <td>1.0</td>\n",
       "    </tr>\n",
       "    <tr>\n",
       "      <th>2</th>\n",
       "      <td>36573714</td>\n",
       "      <td>75</td>\n",
       "      <td>3</td>\n",
       "      <td>7</td>\n",
       "      <td>0.0</td>\n",
       "      <td>1</td>\n",
       "      <td>0</td>\n",
       "      <td>1.0</td>\n",
       "      <td>1.0</td>\n",
       "      <td>0.423356</td>\n",
       "      <td>0.576644</td>\n",
       "      <td>1.0</td>\n",
       "      <td>0.0</td>\n",
       "    </tr>\n",
       "    <tr>\n",
       "      <th>3</th>\n",
       "      <td>73972230</td>\n",
       "      <td>65</td>\n",
       "      <td>14</td>\n",
       "      <td>9</td>\n",
       "      <td>3.0</td>\n",
       "      <td>0</td>\n",
       "      <td>1</td>\n",
       "      <td>1.0</td>\n",
       "      <td>0.0</td>\n",
       "      <td>0.000003</td>\n",
       "      <td>0.999997</td>\n",
       "      <td>0.0</td>\n",
       "      <td>1.0</td>\n",
       "    </tr>\n",
       "    <tr>\n",
       "      <th>5</th>\n",
       "      <td>89493114</td>\n",
       "      <td>0</td>\n",
       "      <td>8</td>\n",
       "      <td>5</td>\n",
       "      <td>0.0</td>\n",
       "      <td>1</td>\n",
       "      <td>0</td>\n",
       "      <td>1.0</td>\n",
       "      <td>0.0</td>\n",
       "      <td>0.407156</td>\n",
       "      <td>0.592844</td>\n",
       "      <td>1.0</td>\n",
       "      <td>0.0</td>\n",
       "    </tr>\n",
       "    <tr>\n",
       "      <th>...</th>\n",
       "      <td>...</td>\n",
       "      <td>...</td>\n",
       "      <td>...</td>\n",
       "      <td>...</td>\n",
       "      <td>...</td>\n",
       "      <td>...</td>\n",
       "      <td>...</td>\n",
       "      <td>...</td>\n",
       "      <td>...</td>\n",
       "      <td>...</td>\n",
       "      <td>...</td>\n",
       "      <td>...</td>\n",
       "      <td>...</td>\n",
       "    </tr>\n",
       "    <tr>\n",
       "      <th>7964</th>\n",
       "      <td>86452692</td>\n",
       "      <td>65</td>\n",
       "      <td>3</td>\n",
       "      <td>9</td>\n",
       "      <td>0.0</td>\n",
       "      <td>1</td>\n",
       "      <td>0</td>\n",
       "      <td>NaN</td>\n",
       "      <td>NaN</td>\n",
       "      <td>NaN</td>\n",
       "      <td>NaN</td>\n",
       "      <td>NaN</td>\n",
       "      <td>NaN</td>\n",
       "    </tr>\n",
       "    <tr>\n",
       "      <th>7965</th>\n",
       "      <td>86749284</td>\n",
       "      <td>65</td>\n",
       "      <td>8</td>\n",
       "      <td>5</td>\n",
       "      <td>2.0</td>\n",
       "      <td>0</td>\n",
       "      <td>1</td>\n",
       "      <td>NaN</td>\n",
       "      <td>NaN</td>\n",
       "      <td>NaN</td>\n",
       "      <td>NaN</td>\n",
       "      <td>NaN</td>\n",
       "      <td>NaN</td>\n",
       "    </tr>\n",
       "    <tr>\n",
       "      <th>7966</th>\n",
       "      <td>135741342</td>\n",
       "      <td>65</td>\n",
       "      <td>5</td>\n",
       "      <td>5</td>\n",
       "      <td>0.0</td>\n",
       "      <td>1</td>\n",
       "      <td>0</td>\n",
       "      <td>NaN</td>\n",
       "      <td>NaN</td>\n",
       "      <td>NaN</td>\n",
       "      <td>NaN</td>\n",
       "      <td>NaN</td>\n",
       "      <td>NaN</td>\n",
       "    </tr>\n",
       "    <tr>\n",
       "      <th>7967</th>\n",
       "      <td>65660634</td>\n",
       "      <td>65</td>\n",
       "      <td>1</td>\n",
       "      <td>5</td>\n",
       "      <td>0.0</td>\n",
       "      <td>1</td>\n",
       "      <td>0</td>\n",
       "      <td>NaN</td>\n",
       "      <td>NaN</td>\n",
       "      <td>NaN</td>\n",
       "      <td>NaN</td>\n",
       "      <td>NaN</td>\n",
       "      <td>NaN</td>\n",
       "    </tr>\n",
       "    <tr>\n",
       "      <th>7968</th>\n",
       "      <td>73248582</td>\n",
       "      <td>45</td>\n",
       "      <td>8</td>\n",
       "      <td>9</td>\n",
       "      <td>0.0</td>\n",
       "      <td>1</td>\n",
       "      <td>0</td>\n",
       "      <td>NaN</td>\n",
       "      <td>NaN</td>\n",
       "      <td>NaN</td>\n",
       "      <td>NaN</td>\n",
       "      <td>NaN</td>\n",
       "      <td>NaN</td>\n",
       "    </tr>\n",
       "  </tbody>\n",
       "</table>\n",
       "<p>7297 rows × 13 columns</p>\n",
       "</div>"
      ],
      "text/plain": [
       "      encounter_id  age  time_in_hospital  tel_12  total_indicators  tel_48_0  \\\n",
       "0         97074168   65                 4       7               1.0         1   \n",
       "1         38255910   65                 4       4               2.0         0   \n",
       "2         36573714   75                 3       7               0.0         1   \n",
       "3         73972230   65                14       9               3.0         0   \n",
       "5         89493114    0                 8       5               0.0         1   \n",
       "...            ...  ...               ...     ...               ...       ...   \n",
       "7964      86452692   65                 3       9               0.0         1   \n",
       "7965      86749284   65                 8       5               2.0         0   \n",
       "7966     135741342   65                 5       5               0.0         1   \n",
       "7967      65660634   65                 1       5               0.0         1   \n",
       "7968      73248582   45                 8       9               0.0         1   \n",
       "\n",
       "      tel_48_1  y_prediction_LRC  y_prediction_DTC  \\\n",
       "0            0               1.0               1.0   \n",
       "1            1               1.0               0.0   \n",
       "2            0               1.0               1.0   \n",
       "3            1               1.0               0.0   \n",
       "5            0               1.0               0.0   \n",
       "...        ...               ...               ...   \n",
       "7964         0               NaN               NaN   \n",
       "7965         1               NaN               NaN   \n",
       "7966         0               NaN               NaN   \n",
       "7967         0               NaN               NaN   \n",
       "7968         0               NaN               NaN   \n",
       "\n",
       "      predicted_probability_LR_0  predicted_probability_LR_1  \\\n",
       "0                       0.024166                    0.975834   \n",
       "1                       0.000089                    0.999911   \n",
       "2                       0.423356                    0.576644   \n",
       "3                       0.000003                    0.999997   \n",
       "5                       0.407156                    0.592844   \n",
       "...                          ...                         ...   \n",
       "7964                         NaN                         NaN   \n",
       "7965                         NaN                         NaN   \n",
       "7966                         NaN                         NaN   \n",
       "7967                         NaN                         NaN   \n",
       "7968                         NaN                         NaN   \n",
       "\n",
       "      predicted_probability_decisiontree_0  \\\n",
       "0                                      0.0   \n",
       "1                                      0.0   \n",
       "2                                      1.0   \n",
       "3                                      0.0   \n",
       "5                                      1.0   \n",
       "...                                    ...   \n",
       "7964                                   NaN   \n",
       "7965                                   NaN   \n",
       "7966                                   NaN   \n",
       "7967                                   NaN   \n",
       "7968                                   NaN   \n",
       "\n",
       "      predicted_probability_decisiontree_1  \n",
       "0                                      1.0  \n",
       "1                                      1.0  \n",
       "2                                      0.0  \n",
       "3                                      1.0  \n",
       "5                                      0.0  \n",
       "...                                    ...  \n",
       "7964                                   NaN  \n",
       "7965                                   NaN  \n",
       "7966                                   NaN  \n",
       "7967                                   NaN  \n",
       "7968                                   NaN  \n",
       "\n",
       "[7297 rows x 13 columns]"
      ]
     },
     "execution_count": 92,
     "metadata": {},
     "output_type": "execute_result"
    }
   ],
   "source": [
    "dframe"
   ]
  },
  {
   "cell_type": "code",
   "execution_count": 100,
   "metadata": {},
   "outputs": [],
   "source": [
    "\n",
    "\n",
    "prediction=dframe[['encounter_id','y_prediction_DTC']]\n",
    "\n"
   ]
  },
  {
   "cell_type": "code",
   "execution_count": 101,
   "metadata": {},
   "outputs": [
    {
     "data": {
      "text/html": [
       "<div>\n",
       "<style scoped>\n",
       "    .dataframe tbody tr th:only-of-type {\n",
       "        vertical-align: middle;\n",
       "    }\n",
       "\n",
       "    .dataframe tbody tr th {\n",
       "        vertical-align: top;\n",
       "    }\n",
       "\n",
       "    .dataframe thead th {\n",
       "        text-align: right;\n",
       "    }\n",
       "</style>\n",
       "<table border=\"1\" class=\"dataframe\">\n",
       "  <thead>\n",
       "    <tr style=\"text-align: right;\">\n",
       "      <th></th>\n",
       "      <th>encounter_id</th>\n",
       "      <th>y_prediction_DTC</th>\n",
       "    </tr>\n",
       "  </thead>\n",
       "  <tbody>\n",
       "    <tr>\n",
       "      <th>0</th>\n",
       "      <td>97074168</td>\n",
       "      <td>1.0</td>\n",
       "    </tr>\n",
       "    <tr>\n",
       "      <th>1</th>\n",
       "      <td>38255910</td>\n",
       "      <td>0.0</td>\n",
       "    </tr>\n",
       "    <tr>\n",
       "      <th>2</th>\n",
       "      <td>36573714</td>\n",
       "      <td>1.0</td>\n",
       "    </tr>\n",
       "    <tr>\n",
       "      <th>3</th>\n",
       "      <td>73972230</td>\n",
       "      <td>0.0</td>\n",
       "    </tr>\n",
       "    <tr>\n",
       "      <th>5</th>\n",
       "      <td>89493114</td>\n",
       "      <td>0.0</td>\n",
       "    </tr>\n",
       "    <tr>\n",
       "      <th>...</th>\n",
       "      <td>...</td>\n",
       "      <td>...</td>\n",
       "    </tr>\n",
       "    <tr>\n",
       "      <th>7964</th>\n",
       "      <td>86452692</td>\n",
       "      <td>NaN</td>\n",
       "    </tr>\n",
       "    <tr>\n",
       "      <th>7965</th>\n",
       "      <td>86749284</td>\n",
       "      <td>NaN</td>\n",
       "    </tr>\n",
       "    <tr>\n",
       "      <th>7966</th>\n",
       "      <td>135741342</td>\n",
       "      <td>NaN</td>\n",
       "    </tr>\n",
       "    <tr>\n",
       "      <th>7967</th>\n",
       "      <td>65660634</td>\n",
       "      <td>NaN</td>\n",
       "    </tr>\n",
       "    <tr>\n",
       "      <th>7968</th>\n",
       "      <td>73248582</td>\n",
       "      <td>NaN</td>\n",
       "    </tr>\n",
       "  </tbody>\n",
       "</table>\n",
       "<p>7297 rows × 2 columns</p>\n",
       "</div>"
      ],
      "text/plain": [
       "      encounter_id  y_prediction_DTC\n",
       "0         97074168               1.0\n",
       "1         38255910               0.0\n",
       "2         36573714               1.0\n",
       "3         73972230               0.0\n",
       "5         89493114               0.0\n",
       "...            ...               ...\n",
       "7964      86452692               NaN\n",
       "7965      86749284               NaN\n",
       "7966     135741342               NaN\n",
       "7967      65660634               NaN\n",
       "7968      73248582               NaN\n",
       "\n",
       "[7297 rows x 2 columns]"
      ]
     },
     "execution_count": 101,
     "metadata": {},
     "output_type": "execute_result"
    }
   ],
   "source": [
    "prediction"
   ]
  },
  {
   "cell_type": "code",
   "execution_count": 102,
   "metadata": {},
   "outputs": [],
   "source": [
    "prediction.to_csv(\"prediction.csv\")"
   ]
  },
  {
   "cell_type": "code",
   "execution_count": null,
   "metadata": {},
   "outputs": [],
   "source": []
  }
 ],
 "metadata": {
  "kernelspec": {
   "display_name": "Python 3",
   "language": "python",
   "name": "python3"
  },
  "language_info": {
   "codemirror_mode": {
    "name": "ipython",
    "version": 3
   },
   "file_extension": ".py",
   "mimetype": "text/x-python",
   "name": "python",
   "nbconvert_exporter": "python",
   "pygments_lexer": "ipython3",
   "version": "3.7.1"
  }
 },
 "nbformat": 4,
 "nbformat_minor": 4
}
